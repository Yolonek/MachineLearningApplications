{
 "cells": [
  {
   "cell_type": "markdown",
   "source": [
    "# Building Dense Autoencoders\n"
   ],
   "metadata": {
    "collapsed": false
   },
   "id": "e5b1e686833ee245"
  },
  {
   "cell_type": "code",
   "outputs": [],
   "source": [
    "import torch\n",
    "from torch import nn\n",
    "from torchsummary import summary\n",
    "from collections import OrderedDict"
   ],
   "metadata": {
    "collapsed": false,
    "ExecuteTime": {
     "end_time": "2025-03-04T10:26:33.286917100Z",
     "start_time": "2025-03-04T10:26:31.482514500Z"
    }
   },
   "id": "d81409db86e6a69",
   "execution_count": 1
  },
  {
   "cell_type": "markdown",
   "source": [
    "## Simple MLP Encoder"
   ],
   "metadata": {
    "collapsed": false
   },
   "id": "ac892e2e4aa30d8e"
  },
  {
   "cell_type": "code",
   "outputs": [],
   "source": [
    "torch.manual_seed(42)\n",
    "torch.cuda.manual_seed(42)"
   ],
   "metadata": {
    "collapsed": false,
    "ExecuteTime": {
     "end_time": "2025-03-04T10:26:33.302915800Z",
     "start_time": "2025-03-04T10:26:33.288416200Z"
    }
   },
   "id": "273c62f5f66d7961",
   "execution_count": 2
  },
  {
   "cell_type": "code",
   "outputs": [],
   "source": [
    "class HiddenBlock(nn.Module):\n",
    "    \n",
    "    def __init__(self, \n",
    "                 input_size: int, \n",
    "                 hidden_layers: tuple[int:] = None,\n",
    "                 dropout: float = 0.2):\n",
    "        super(HiddenBlock, self).__init__()\n",
    "        if hidden_layers is None:\n",
    "            self.hidden_layers = []\n",
    "        elif isinstance(hidden_layers, int):\n",
    "            self.hidden_layers = [hidden_layers]\n",
    "        else:\n",
    "            self.hidden_layers = hidden_layers\n",
    "        self.input_size = input_size\n",
    "        self.num_of_layers = len(self.hidden_layers)\n",
    "        self.dropout = dropout\n",
    "        \n",
    "        self.dense_layers = self._build_dense_layers()\n",
    "    \n",
    "    def _build_dense_layers(self):\n",
    "        layers = []\n",
    "        if self.num_of_layers == 0:\n",
    "            return nn.Identity()\n",
    "        else:\n",
    "            in_features = self.input_size\n",
    "            for index, layer_size in enumerate(self.hidden_layers, start=1):\n",
    "                layers.append((\n",
    "                    f'dense_layer{index}',\n",
    "                    nn.Sequential(\n",
    "                        nn.Linear(in_features=in_features,\n",
    "                                  out_features=layer_size),\n",
    "                        nn.ReLU(),\n",
    "                        nn.LayerNorm(layer_size),\n",
    "                        nn.Dropout(p=self.dropout)\n",
    "                    )\n",
    "                ))\n",
    "                in_features = layer_size\n",
    "        return nn.Sequential(OrderedDict(layers))\n",
    "    \n",
    "    def forward(self, x):\n",
    "        return self.dense_layers(x)\n",
    "    \n",
    "    def summary(self):\n",
    "        print(self)\n",
    "\n",
    "\n",
    "class DenseEncoder(HiddenBlock):\n",
    "    \n",
    "    def __init__(self,\n",
    "                 input_shape: tuple[int, int, int],\n",
    "                 hidden_layers: tuple[int:] = None,\n",
    "                 latent_space_dim: int = 2,\n",
    "                 dropout: float = 0.2):\n",
    "        self.input_shape = input_shape\n",
    "        input_size = input_shape[0] * input_shape[1] * input_shape[2]\n",
    "        super(DenseEncoder, self).__init__(input_size=input_size,\n",
    "                                           hidden_layers=hidden_layers,\n",
    "                                           dropout=dropout)\n",
    "        self.latent_space_dim = latent_space_dim\n",
    "        \n",
    "        self.flatten = nn.Flatten()\n",
    "        self.output_layer = self._build_output_layer()\n",
    "    \n",
    "    def _build_output_layer(self):\n",
    "        if self.num_of_layers == 0:\n",
    "            in_features = self.input_size\n",
    "        else:\n",
    "            in_features = self.hidden_layers[-1]\n",
    "        return nn.Linear(in_features=in_features,\n",
    "                         out_features=self.latent_space_dim)\n",
    "    \n",
    "    def forward(self, x):\n",
    "        return self.output_layer(self.dense_layers(self.flatten(x)))\n",
    "\n",
    "\n",
    "class DenseDecoder(HiddenBlock):\n",
    "    \n",
    "    def __init__(self,\n",
    "                 output_shape: tuple[int, int, int],\n",
    "                 hidden_layers: tuple[int:] = None,\n",
    "                 latent_space_dim: int = 2,\n",
    "                 dropout: float = 0.2):\n",
    "        super(DenseDecoder, self).__init__(input_size=latent_space_dim,\n",
    "                                           hidden_layers=hidden_layers,\n",
    "                                           dropout=dropout)\n",
    "        self.output_shape = output_shape\n",
    "        self.latent_space_dim = latent_space_dim\n",
    "        self.output_layer = self._build_output_layer()\n",
    "    \n",
    "    def _build_output_layer(self):\n",
    "        if self.num_of_layers == 0:\n",
    "            in_features = self.latent_space_dim\n",
    "        else:\n",
    "            in_features = self.hidden_layers[-1]\n",
    "        out_features = self.output_shape[0] * self.output_shape[1] * self.output_shape[2]\n",
    "        return nn.Sequential(nn.Linear(in_features=in_features,\n",
    "                                       out_features=out_features),\n",
    "                             nn.Sigmoid())\n",
    "    \n",
    "    def forward(self, x):\n",
    "        return self.output_layer(self.dense_layers(x)).view(x.size(0), *self.output_shape)"
   ],
   "metadata": {
    "collapsed": false,
    "ExecuteTime": {
     "end_time": "2025-03-04T10:26:33.318417Z",
     "start_time": "2025-03-04T10:26:33.312417600Z"
    }
   },
   "id": "b1b71ae1a78d1ac6",
   "execution_count": 3
  },
  {
   "cell_type": "code",
   "outputs": [
    {
     "name": "stdout",
     "output_type": "stream",
     "text": [
      "DenseEncoder(\n",
      "  (dense_layers): Identity()\n",
      "  (flatten): Flatten(start_dim=1, end_dim=-1)\n",
      "  (output_layer): Linear(in_features=784, out_features=2, bias=True)\n",
      ")\n"
     ]
    }
   ],
   "source": [
    "dummy_tensor = torch.randn(1, 1, 28, 28)\n",
    "input_shape = [1, 28, 28]\n",
    "hidden_layers = [256]\n",
    "latent_space_dim = 2\n",
    "DenseEncoder(input_shape).summary()"
   ],
   "metadata": {
    "collapsed": false,
    "ExecuteTime": {
     "end_time": "2025-03-04T10:26:33.333917200Z",
     "start_time": "2025-03-04T10:26:33.319418300Z"
    }
   },
   "id": "5f8ae5eae81643b5",
   "execution_count": 4
  },
  {
   "cell_type": "code",
   "outputs": [
    {
     "name": "stdout",
     "output_type": "stream",
     "text": [
      "DenseEncoder(\n",
      "  (dense_layers): Sequential(\n",
      "    (dense_layer1): Sequential(\n",
      "      (0): Linear(in_features=784, out_features=256, bias=True)\n",
      "      (1): ReLU()\n",
      "      (2): LayerNorm((256,), eps=1e-05, elementwise_affine=True)\n",
      "      (3): Dropout(p=0.2, inplace=False)\n",
      "    )\n",
      "  )\n",
      "  (flatten): Flatten(start_dim=1, end_dim=-1)\n",
      "  (output_layer): Linear(in_features=256, out_features=2, bias=True)\n",
      ")\n"
     ]
    },
    {
     "data": {
      "text/plain": "torch.Size([1, 2])"
     },
     "execution_count": 5,
     "metadata": {},
     "output_type": "execute_result"
    }
   ],
   "source": [
    "model = DenseEncoder(\n",
    "    input_shape=input_shape,\n",
    "    hidden_layers=hidden_layers,\n",
    "    latent_space_dim=latent_space_dim\n",
    ")\n",
    "model.summary()\n",
    "latent_dummy_tensor = model(dummy_tensor)\n",
    "latent_dummy_tensor.shape"
   ],
   "metadata": {
    "collapsed": false,
    "ExecuteTime": {
     "end_time": "2025-03-04T10:26:33.370927200Z",
     "start_time": "2025-03-04T10:26:33.334921500Z"
    }
   },
   "id": "c54c0d58d25e3daf",
   "execution_count": 5
  },
  {
   "cell_type": "code",
   "outputs": [
    {
     "name": "stdout",
     "output_type": "stream",
     "text": [
      "DenseDecoder(\n",
      "  (dense_layers): Sequential(\n",
      "    (dense_layer1): Sequential(\n",
      "      (0): Linear(in_features=2, out_features=256, bias=True)\n",
      "      (1): ReLU()\n",
      "      (2): LayerNorm((256,), eps=1e-05, elementwise_affine=True)\n",
      "      (3): Dropout(p=0.2, inplace=False)\n",
      "    )\n",
      "  )\n",
      "  (output_layer): Sequential(\n",
      "    (0): Linear(in_features=256, out_features=784, bias=True)\n",
      "    (1): Sigmoid()\n",
      "  )\n",
      ")\n"
     ]
    },
    {
     "data": {
      "text/plain": "torch.Size([1, 1, 28, 28])"
     },
     "execution_count": 6,
     "metadata": {},
     "output_type": "execute_result"
    }
   ],
   "source": [
    "model = DenseDecoder(\n",
    "    output_shape=input_shape,\n",
    "    hidden_layers=hidden_layers[::-1],\n",
    "    latent_space_dim=latent_space_dim\n",
    ")\n",
    "model.summary()\n",
    "model(latent_dummy_tensor).shape"
   ],
   "metadata": {
    "collapsed": false,
    "ExecuteTime": {
     "end_time": "2025-03-04T10:26:33.380427800Z",
     "start_time": "2025-03-04T10:26:33.366428600Z"
    }
   },
   "id": "64f16b60d9b1ff22",
   "execution_count": 6
  },
  {
   "cell_type": "markdown",
   "source": [
    "Now let's build an Autoencoder"
   ],
   "metadata": {
    "collapsed": false
   },
   "id": "ce74448479e3f4e2"
  },
  {
   "cell_type": "code",
   "outputs": [],
   "source": [
    "class DenseAutoencoder(nn.Module):\n",
    "    \n",
    "    def __init__(self,\n",
    "                 input_shape: tuple[int, int, int],\n",
    "                 encoder_hidden_layers: tuple[int:] = None,\n",
    "                 decoder_hidden_layers: tuple[int:] = None,\n",
    "                 latent_space_dim: int = 2,\n",
    "                 dropout: float = 0.1):\n",
    "        super(DenseAutoencoder, self).__init__()\n",
    "        \n",
    "        self.encoder = DenseEncoder(input_shape=input_shape,\n",
    "                                    hidden_layers=encoder_hidden_layers,\n",
    "                                    latent_space_dim=latent_space_dim,\n",
    "                                    dropout=dropout) \n",
    "        \n",
    "        if decoder_hidden_layers is None:\n",
    "            decoder_hidden_layers = self.encoder.hidden_layers[::-1]\n",
    "        self.decoder = DenseDecoder(output_shape=input_shape,\n",
    "                                    hidden_layers=decoder_hidden_layers,\n",
    "                                    latent_space_dim=latent_space_dim,\n",
    "                                    dropout=dropout)\n",
    "    \n",
    "    def forward(self, x):\n",
    "        return self.decoder(self.encoder(x))\n",
    "    \n",
    "    def summary(self):\n",
    "        print(self)"
   ],
   "metadata": {
    "collapsed": false,
    "ExecuteTime": {
     "end_time": "2025-03-04T10:26:33.433926600Z",
     "start_time": "2025-03-04T10:26:33.382929100Z"
    }
   },
   "id": "46f52f56661d23aa",
   "execution_count": 7
  },
  {
   "cell_type": "code",
   "outputs": [
    {
     "name": "stdout",
     "output_type": "stream",
     "text": [
      "DenseAutoencoder(\n",
      "  (encoder): DenseEncoder(\n",
      "    (dense_layers): Sequential(\n",
      "      (dense_layer1): Sequential(\n",
      "        (0): Linear(in_features=784, out_features=256, bias=True)\n",
      "        (1): ReLU()\n",
      "        (2): LayerNorm((256,), eps=1e-05, elementwise_affine=True)\n",
      "        (3): Dropout(p=0.1, inplace=False)\n",
      "      )\n",
      "    )\n",
      "    (flatten): Flatten(start_dim=1, end_dim=-1)\n",
      "    (output_layer): Linear(in_features=256, out_features=2, bias=True)\n",
      "  )\n",
      "  (decoder): DenseDecoder(\n",
      "    (dense_layers): Sequential(\n",
      "      (dense_layer1): Sequential(\n",
      "        (0): Linear(in_features=2, out_features=256, bias=True)\n",
      "        (1): ReLU()\n",
      "        (2): LayerNorm((256,), eps=1e-05, elementwise_affine=True)\n",
      "        (3): Dropout(p=0.1, inplace=False)\n",
      "      )\n",
      "    )\n",
      "    (output_layer): Sequential(\n",
      "      (0): Linear(in_features=256, out_features=784, bias=True)\n",
      "      (1): Sigmoid()\n",
      "    )\n",
      "  )\n",
      ")\n"
     ]
    },
    {
     "data": {
      "text/plain": "torch.Size([1, 1, 28, 28])"
     },
     "execution_count": 8,
     "metadata": {},
     "output_type": "execute_result"
    }
   ],
   "source": [
    "model = DenseAutoencoder(\n",
    "    input_shape=input_shape,\n",
    "    encoder_hidden_layers=hidden_layers,\n",
    "    latent_space_dim=latent_space_dim\n",
    ")\n",
    "model.summary()\n",
    "model(dummy_tensor).shape"
   ],
   "metadata": {
    "collapsed": false,
    "ExecuteTime": {
     "end_time": "2025-03-04T10:26:33.434926500Z",
     "start_time": "2025-03-04T10:26:33.397928800Z"
    }
   },
   "id": "ae089d7310e1176b",
   "execution_count": 8
  },
  {
   "cell_type": "code",
   "outputs": [
    {
     "name": "stdout",
     "output_type": "stream",
     "text": [
      "----------------------------------------------------------------\n",
      "        Layer (type)               Output Shape         Param #\n",
      "================================================================\n",
      "           Flatten-1                  [-1, 784]               0\n",
      "            Linear-2                  [-1, 256]         200,960\n",
      "              ReLU-3                  [-1, 256]               0\n",
      "         LayerNorm-4                  [-1, 256]             512\n",
      "           Dropout-5                  [-1, 256]               0\n",
      "            Linear-6                    [-1, 2]             514\n",
      "      DenseEncoder-7                    [-1, 2]               0\n",
      "            Linear-8                  [-1, 256]             768\n",
      "              ReLU-9                  [-1, 256]               0\n",
      "        LayerNorm-10                  [-1, 256]             512\n",
      "          Dropout-11                  [-1, 256]               0\n",
      "           Linear-12                  [-1, 784]         201,488\n",
      "          Sigmoid-13                  [-1, 784]               0\n",
      "     DenseDecoder-14            [-1, 1, 28, 28]               0\n",
      "================================================================\n",
      "Total params: 404,754\n",
      "Trainable params: 404,754\n",
      "Non-trainable params: 0\n",
      "----------------------------------------------------------------\n",
      "Input size (MB): 0.00\n",
      "Forward/backward pass size (MB): 0.04\n",
      "Params size (MB): 1.54\n",
      "Estimated Total Size (MB): 1.59\n",
      "----------------------------------------------------------------\n"
     ]
    }
   ],
   "source": [
    "summary(model, input_size=tuple(input_shape), device='cpu')"
   ],
   "metadata": {
    "collapsed": false,
    "ExecuteTime": {
     "end_time": "2025-03-04T10:26:33.490426400Z",
     "start_time": "2025-03-04T10:26:33.411929600Z"
    }
   },
   "id": "57b2f6b846eba6d0",
   "execution_count": 9
  }
 ],
 "metadata": {
  "kernelspec": {
   "display_name": "Python 3",
   "language": "python",
   "name": "python3"
  },
  "language_info": {
   "codemirror_mode": {
    "name": "ipython",
    "version": 2
   },
   "file_extension": ".py",
   "mimetype": "text/x-python",
   "name": "python",
   "nbconvert_exporter": "python",
   "pygments_lexer": "ipython2",
   "version": "2.7.6"
  }
 },
 "nbformat": 4,
 "nbformat_minor": 5
}
