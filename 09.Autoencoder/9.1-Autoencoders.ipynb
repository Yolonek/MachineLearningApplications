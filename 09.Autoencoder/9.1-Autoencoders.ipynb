{
 "cells": [
  {
   "cell_type": "markdown",
   "source": [
    "# Autoencoders\n"
   ],
   "metadata": {
    "collapsed": false
   },
   "id": "e5b1e686833ee245"
  },
  {
   "cell_type": "code",
   "outputs": [],
   "source": [
    "import sys\n",
    "sys.path.append('..')"
   ],
   "metadata": {
    "collapsed": false,
    "ExecuteTime": {
     "end_time": "2025-02-28T13:41:33.214542300Z",
     "start_time": "2025-02-28T13:41:33.060543100Z"
    }
   },
   "id": "cb93f3c5caec21be",
   "execution_count": 68
  },
  {
   "cell_type": "code",
   "outputs": [],
   "source": [
    "import torch\n",
    "from torch import nn\n",
    "from torchsummary import summary\n",
    "from torchvision import datasets, transforms\n",
    "from torch.utils.data import DataLoader\n",
    "from collections import OrderedDict\n",
    "from tqdm import tqdm\n",
    "import numpy as np\n",
    "from matplotlib import pyplot as plt\n",
    "from typing import Union\n",
    "from ModuleUtils import enhance_plot\n",
    "%matplotlib inline"
   ],
   "metadata": {
    "collapsed": false,
    "ExecuteTime": {
     "end_time": "2025-02-28T13:41:33.263541700Z",
     "start_time": "2025-02-28T13:41:33.176041300Z"
    }
   },
   "id": "d81409db86e6a69",
   "execution_count": 69
  },
  {
   "cell_type": "markdown",
   "source": [
    "## Simple MLP Encoder"
   ],
   "metadata": {
    "collapsed": false
   },
   "id": "ac892e2e4aa30d8e"
  },
  {
   "cell_type": "code",
   "outputs": [],
   "source": [
    "class HiddenBlock(nn.Module):\n",
    "    \n",
    "    def __init__(self, \n",
    "                 input_size: int, \n",
    "                 hidden_layers: tuple[int:] = None,\n",
    "                 dropout: float = 0.2):\n",
    "        super(HiddenBlock, self).__init__()\n",
    "        if hidden_layers is None:\n",
    "            self.hidden_layers = []\n",
    "        elif isinstance(hidden_layers, int):\n",
    "            self.hidden_layers = [hidden_layers]\n",
    "        else:\n",
    "            self.hidden_layers = hidden_layers\n",
    "        self.input_size = input_size\n",
    "        self.num_of_layers = len(self.hidden_layers)\n",
    "        self.dropout = dropout\n",
    "        \n",
    "        self.dense_layers = self._build_dense_layers()\n",
    "    \n",
    "    def _build_dense_layers(self):\n",
    "        layers = []\n",
    "        if self.num_of_layers == 0:\n",
    "            return nn.Identity()\n",
    "        else:\n",
    "            in_features = self.input_size\n",
    "            for index, layer_size in enumerate(self.hidden_layers, start=1):\n",
    "                layers.append((\n",
    "                    f'dense_layer{index}',\n",
    "                    nn.Sequential(\n",
    "                        nn.Linear(in_features=in_features,\n",
    "                                  out_features=layer_size),\n",
    "                        nn.ReLU(),\n",
    "                        nn.LayerNorm(layer_size),\n",
    "                        nn.Dropout(p=self.dropout)\n",
    "                    )\n",
    "                ))\n",
    "                in_features = layer_size\n",
    "        return nn.Sequential(OrderedDict(layers))\n",
    "    \n",
    "    def forward(self, x):\n",
    "        return self.dense_layers(x)\n",
    "    \n",
    "    def summary(self):\n",
    "        print(self)\n",
    "\n",
    "\n",
    "class DenseEncoder(HiddenBlock):\n",
    "    \n",
    "    def __init__(self,\n",
    "                 input_shape: tuple[int, int, int],\n",
    "                 hidden_layers: tuple[int:] = None,\n",
    "                 latent_space_dim: int = 2,\n",
    "                 dropout: float = 0.2):\n",
    "        self.input_shape = input_shape\n",
    "        input_size = input_shape[0] * input_shape[1] * input_shape[2]\n",
    "        super(DenseEncoder, self).__init__(input_size=input_size,\n",
    "                                           hidden_layers=hidden_layers,\n",
    "                                           dropout=dropout)\n",
    "        self.latent_space_dim = latent_space_dim\n",
    "        \n",
    "        self.flatten = nn.Flatten()\n",
    "        self.output_layer = self._build_output_layer()\n",
    "    \n",
    "    def _build_output_layer(self):\n",
    "        if self.num_of_layers == 0:\n",
    "            in_features = self.input_size\n",
    "        else:\n",
    "            in_features = self.hidden_layers[-1]\n",
    "        return nn.Linear(in_features=in_features,\n",
    "                         out_features=self.latent_space_dim)\n",
    "    \n",
    "    def forward(self, x):\n",
    "        return self.output_layer(self.dense_layers(self.flatten(x)))\n",
    "\n",
    "\n",
    "class DenseDecoder(HiddenBlock):\n",
    "    \n",
    "    def __init__(self,\n",
    "                 output_shape: tuple[int, int, int],\n",
    "                 hidden_layers: tuple[int:] = None,\n",
    "                 latent_space_dim: int = 2,\n",
    "                 dropout: float = 0.2):\n",
    "        super(DenseDecoder, self).__init__(input_size=latent_space_dim,\n",
    "                                           hidden_layers=hidden_layers,\n",
    "                                           dropout=dropout)\n",
    "        self.output_shape = output_shape\n",
    "        self.latent_space_dim = latent_space_dim\n",
    "        self.output_layer = self._build_output_layer()\n",
    "    \n",
    "    def _build_output_layer(self):\n",
    "        if self.num_of_layers == 0:\n",
    "            in_features = self.latent_space_dim\n",
    "        else:\n",
    "            in_features = self.hidden_layers[-1]\n",
    "        out_features = self.output_shape[0] * self.output_shape[1] * self.output_shape[2]\n",
    "        return nn.Sequential(nn.Linear(in_features=in_features,\n",
    "                                       out_features=out_features),\n",
    "                             nn.Sigmoid())\n",
    "    \n",
    "    def forward(self, x):\n",
    "        return self.output_layer(self.dense_layers(x)).view(x.size(0), *self.output_shape)"
   ],
   "metadata": {
    "collapsed": false,
    "ExecuteTime": {
     "end_time": "2025-02-28T13:41:33.372040700Z",
     "start_time": "2025-02-28T13:41:33.233544300Z"
    }
   },
   "id": "b1b71ae1a78d1ac6",
   "execution_count": 70
  },
  {
   "cell_type": "code",
   "outputs": [
    {
     "name": "stdout",
     "output_type": "stream",
     "text": [
      "DenseEncoder(\n",
      "  (dense_layers): Identity()\n",
      "  (flatten): Flatten(start_dim=1, end_dim=-1)\n",
      "  (output_layer): Linear(in_features=784, out_features=2, bias=True)\n",
      ")\n"
     ]
    }
   ],
   "source": [
    "dummy_tensor = torch.randn(1, 1, 28, 28)\n",
    "input_shape = [1, 28, 28]\n",
    "hidden_layers = [256]\n",
    "latent_space_dim = 2\n",
    "DenseEncoder(input_shape).summary()"
   ],
   "metadata": {
    "collapsed": false,
    "ExecuteTime": {
     "end_time": "2025-02-28T13:41:33.407544400Z",
     "start_time": "2025-02-28T13:41:33.375542800Z"
    }
   },
   "id": "5f8ae5eae81643b5",
   "execution_count": 71
  },
  {
   "cell_type": "code",
   "outputs": [
    {
     "name": "stdout",
     "output_type": "stream",
     "text": [
      "DenseEncoder(\n",
      "  (dense_layers): Sequential(\n",
      "    (dense_layer1): Sequential(\n",
      "      (0): Linear(in_features=784, out_features=256, bias=True)\n",
      "      (1): ReLU()\n",
      "      (2): LayerNorm((256,), eps=1e-05, elementwise_affine=True)\n",
      "      (3): Dropout(p=0.2, inplace=False)\n",
      "    )\n",
      "  )\n",
      "  (flatten): Flatten(start_dim=1, end_dim=-1)\n",
      "  (output_layer): Linear(in_features=256, out_features=2, bias=True)\n",
      ")\n"
     ]
    },
    {
     "data": {
      "text/plain": "torch.Size([1, 2])"
     },
     "execution_count": 72,
     "metadata": {},
     "output_type": "execute_result"
    }
   ],
   "source": [
    "model = DenseEncoder(\n",
    "    input_shape=input_shape,\n",
    "    hidden_layers=hidden_layers,\n",
    "    latent_space_dim=latent_space_dim\n",
    ")\n",
    "model.summary()\n",
    "latent_dummy_tensor = model(dummy_tensor)\n",
    "latent_dummy_tensor.shape"
   ],
   "metadata": {
    "collapsed": false,
    "ExecuteTime": {
     "end_time": "2025-02-28T13:41:33.459542500Z",
     "start_time": "2025-02-28T13:41:33.407544400Z"
    }
   },
   "id": "c54c0d58d25e3daf",
   "execution_count": 72
  },
  {
   "cell_type": "code",
   "outputs": [
    {
     "name": "stdout",
     "output_type": "stream",
     "text": [
      "DenseDecoder(\n",
      "  (dense_layers): Sequential(\n",
      "    (dense_layer1): Sequential(\n",
      "      (0): Linear(in_features=2, out_features=256, bias=True)\n",
      "      (1): ReLU()\n",
      "      (2): LayerNorm((256,), eps=1e-05, elementwise_affine=True)\n",
      "      (3): Dropout(p=0.2, inplace=False)\n",
      "    )\n",
      "  )\n",
      "  (output_layer): Sequential(\n",
      "    (0): Linear(in_features=256, out_features=784, bias=True)\n",
      "    (1): Sigmoid()\n",
      "  )\n",
      ")\n"
     ]
    },
    {
     "data": {
      "text/plain": "torch.Size([1, 1, 28, 28])"
     },
     "execution_count": 73,
     "metadata": {},
     "output_type": "execute_result"
    }
   ],
   "source": [
    "model = DenseDecoder(\n",
    "    output_shape=input_shape,\n",
    "    hidden_layers=hidden_layers[::-1],\n",
    "    latent_space_dim=latent_space_dim\n",
    ")\n",
    "model.summary()\n",
    "model(latent_dummy_tensor).shape"
   ],
   "metadata": {
    "collapsed": false,
    "ExecuteTime": {
     "end_time": "2025-02-28T13:41:33.462541200Z",
     "start_time": "2025-02-28T13:41:33.434041800Z"
    }
   },
   "id": "64f16b60d9b1ff22",
   "execution_count": 73
  },
  {
   "cell_type": "markdown",
   "source": [
    "Now let's build an Autoencoder"
   ],
   "metadata": {
    "collapsed": false
   },
   "id": "ce74448479e3f4e2"
  },
  {
   "cell_type": "code",
   "outputs": [],
   "source": [
    "class DenseAutoencoder(nn.Module):\n",
    "    \n",
    "    def __init__(self,\n",
    "                 input_shape: tuple[int, int, int],\n",
    "                 encoder_hidden_layers: tuple[int:] = None,\n",
    "                 decoder_hidden_layers: tuple[int:] = None,\n",
    "                 latent_space_dim: int = 2,\n",
    "                 dropout: float = 0.1):\n",
    "        super(DenseAutoencoder, self).__init__()\n",
    "        \n",
    "        self.encoder = DenseEncoder(input_shape=input_shape,\n",
    "                                    hidden_layers=encoder_hidden_layers,\n",
    "                                    latent_space_dim=latent_space_dim,\n",
    "                                    dropout=dropout) \n",
    "        \n",
    "        if decoder_hidden_layers is None:\n",
    "            decoder_hidden_layers = self.encoder.hidden_layers[::-1]\n",
    "        self.decoder = DenseDecoder(output_shape=input_shape,\n",
    "                                    hidden_layers=decoder_hidden_layers,\n",
    "                                    latent_space_dim=latent_space_dim,\n",
    "                                    dropout=dropout)\n",
    "    \n",
    "    def forward(self, x):\n",
    "        return self.decoder(self.encoder(x))\n",
    "    \n",
    "    def summary(self):\n",
    "        print(self)"
   ],
   "metadata": {
    "collapsed": false,
    "ExecuteTime": {
     "end_time": "2025-02-28T13:41:33.515542900Z",
     "start_time": "2025-02-28T13:41:33.464043300Z"
    }
   },
   "id": "46f52f56661d23aa",
   "execution_count": 74
  },
  {
   "cell_type": "code",
   "outputs": [
    {
     "name": "stdout",
     "output_type": "stream",
     "text": [
      "DenseAutoencoder(\n",
      "  (encoder): DenseEncoder(\n",
      "    (dense_layers): Sequential(\n",
      "      (dense_layer1): Sequential(\n",
      "        (0): Linear(in_features=784, out_features=256, bias=True)\n",
      "        (1): ReLU()\n",
      "        (2): LayerNorm((256,), eps=1e-05, elementwise_affine=True)\n",
      "        (3): Dropout(p=0.1, inplace=False)\n",
      "      )\n",
      "    )\n",
      "    (flatten): Flatten(start_dim=1, end_dim=-1)\n",
      "    (output_layer): Linear(in_features=256, out_features=2, bias=True)\n",
      "  )\n",
      "  (decoder): DenseDecoder(\n",
      "    (dense_layers): Sequential(\n",
      "      (dense_layer1): Sequential(\n",
      "        (0): Linear(in_features=2, out_features=256, bias=True)\n",
      "        (1): ReLU()\n",
      "        (2): LayerNorm((256,), eps=1e-05, elementwise_affine=True)\n",
      "        (3): Dropout(p=0.1, inplace=False)\n",
      "      )\n",
      "    )\n",
      "    (output_layer): Sequential(\n",
      "      (0): Linear(in_features=256, out_features=784, bias=True)\n",
      "      (1): Sigmoid()\n",
      "    )\n",
      "  )\n",
      ")\n"
     ]
    },
    {
     "data": {
      "text/plain": "torch.Size([1, 1, 28, 28])"
     },
     "execution_count": 75,
     "metadata": {},
     "output_type": "execute_result"
    }
   ],
   "source": [
    "model = DenseAutoencoder(\n",
    "    input_shape=input_shape,\n",
    "    encoder_hidden_layers=hidden_layers,\n",
    "    latent_space_dim=latent_space_dim\n",
    ")\n",
    "model.summary()\n",
    "model(dummy_tensor).shape"
   ],
   "metadata": {
    "collapsed": false,
    "ExecuteTime": {
     "end_time": "2025-02-28T13:41:33.587041Z",
     "start_time": "2025-02-28T13:41:33.514542300Z"
    }
   },
   "id": "ae089d7310e1176b",
   "execution_count": 75
  },
  {
   "cell_type": "code",
   "outputs": [
    {
     "name": "stdout",
     "output_type": "stream",
     "text": [
      "----------------------------------------------------------------\n",
      "        Layer (type)               Output Shape         Param #\n",
      "================================================================\n",
      "           Flatten-1                  [-1, 784]               0\n",
      "            Linear-2                  [-1, 256]         200,960\n",
      "              ReLU-3                  [-1, 256]               0\n",
      "         LayerNorm-4                  [-1, 256]             512\n",
      "           Dropout-5                  [-1, 256]               0\n",
      "            Linear-6                    [-1, 2]             514\n",
      "      DenseEncoder-7                    [-1, 2]               0\n",
      "            Linear-8                  [-1, 256]             768\n",
      "              ReLU-9                  [-1, 256]               0\n",
      "        LayerNorm-10                  [-1, 256]             512\n",
      "          Dropout-11                  [-1, 256]               0\n",
      "           Linear-12                  [-1, 784]         201,488\n",
      "          Sigmoid-13                  [-1, 784]               0\n",
      "     DenseDecoder-14            [-1, 1, 28, 28]               0\n",
      "================================================================\n",
      "Total params: 404,754\n",
      "Trainable params: 404,754\n",
      "Non-trainable params: 0\n",
      "----------------------------------------------------------------\n",
      "Input size (MB): 0.00\n",
      "Forward/backward pass size (MB): 0.04\n",
      "Params size (MB): 1.54\n",
      "Estimated Total Size (MB): 1.59\n",
      "----------------------------------------------------------------\n"
     ]
    }
   ],
   "source": [
    "summary(model, input_size=tuple(input_shape), device='cpu')"
   ],
   "metadata": {
    "collapsed": false,
    "ExecuteTime": {
     "end_time": "2025-02-28T13:41:33.616541400Z",
     "start_time": "2025-02-28T13:41:33.571543100Z"
    }
   },
   "id": "57b2f6b846eba6d0",
   "execution_count": 76
  },
  {
   "cell_type": "markdown",
   "source": [
    "## Training the Autoencoder"
   ],
   "metadata": {
    "collapsed": false
   },
   "id": "7148145e5f4d7b19"
  },
  {
   "cell_type": "code",
   "outputs": [
    {
     "data": {
      "text/plain": "torch.Size([1, 28, 28])"
     },
     "execution_count": 77,
     "metadata": {},
     "output_type": "execute_result"
    }
   ],
   "source": [
    "DATA_PATH = '../Datasets/data'\n",
    "\n",
    "transform = transforms.Compose([\n",
    "    transforms.ToTensor(),\n",
    "    transforms.Normalize((0.1307, ), (0.3081, ))\n",
    "])\n",
    "mnist_train = datasets.MNIST(root=DATA_PATH, train=True, download=True, transform=transform)\n",
    "mnist_test = datasets.MNIST(root=DATA_PATH, train=False, download=True, transform=transform)\n",
    "mnist_test[0][0].shape"
   ],
   "metadata": {
    "collapsed": false,
    "ExecuteTime": {
     "end_time": "2025-02-28T13:41:33.728043900Z",
     "start_time": "2025-02-28T13:41:33.594043200Z"
    }
   },
   "id": "d3adab0daaa39574",
   "execution_count": 77
  },
  {
   "cell_type": "code",
   "outputs": [],
   "source": [
    "LEARNING_RATE = 0.001\n",
    "BATCH_SIZE = 512\n",
    "NUM_EPOCHS = 25\n",
    "DEVICE = torch.device('cuda' if torch.cuda.is_available() else 'cpu')\n",
    "# DEVICE = torch.device('cpu')\n",
    "\n",
    "hidden_layers = [256]\n",
    "latent_space_dim = 2\n",
    "autoencoder = DenseAutoencoder(\n",
    "    input_shape=input_shape,\n",
    "    encoder_hidden_layers=hidden_layers,\n",
    "    latent_space_dim=latent_space_dim\n",
    ").to(DEVICE)\n",
    "criterion = nn.MSELoss()\n",
    "optimizer = torch.optim.Adam(autoencoder.parameters(), lr=LEARNING_RATE)\n",
    "train_loader = DataLoader(mnist_train, batch_size=BATCH_SIZE, shuffle=True)"
   ],
   "metadata": {
    "collapsed": false,
    "ExecuteTime": {
     "end_time": "2025-02-28T13:41:33.777043500Z",
     "start_time": "2025-02-28T13:41:33.697042700Z"
    }
   },
   "id": "5fcfd76a4849d7ab",
   "execution_count": 78
  },
  {
   "cell_type": "code",
   "outputs": [],
   "source": [
    "def autoencoder_train_loop(model, dataloader, criterion,\n",
    "                           optimizer, device, epochs):\n",
    "    loss_list = []\n",
    "    model.train()\n",
    "    with tqdm(range(epochs)) as pbar:\n",
    "        for _ in pbar:\n",
    "            loss_train = 0\n",
    "            for images, _ in dataloader:\n",
    "                images = images.to(device)\n",
    "                outputs = model(images)\n",
    "                loss = criterion(outputs, images)\n",
    "                loss_train += (loss_value := loss.item())\n",
    "                optimizer.zero_grad()\n",
    "                loss.backward()\n",
    "                optimizer.step()\n",
    "                pbar.set_postfix(loss=loss_value)\n",
    "            loss_list.append(loss_train / len(dataloader))\n",
    "    return loss_list"
   ],
   "metadata": {
    "collapsed": false,
    "ExecuteTime": {
     "end_time": "2025-02-28T13:41:33.782043700Z",
     "start_time": "2025-02-28T13:41:33.726543400Z"
    }
   },
   "id": "69c2029b9e56b225",
   "execution_count": 79
  },
  {
   "cell_type": "code",
   "outputs": [
    {
     "name": "stderr",
     "output_type": "stream",
     "text": [
      "100%|██████████| 25/25 [04:26<00:00, 10.64s/it, loss=0.666]\n"
     ]
    }
   ],
   "source": [
    "loss_values = autoencoder_train_loop(\n",
    "    model=autoencoder, \n",
    "    dataloader=train_loader,\n",
    "    criterion=criterion,\n",
    "    optimizer=optimizer,\n",
    "    device=DEVICE,\n",
    "    epochs=NUM_EPOCHS\n",
    ")"
   ],
   "metadata": {
    "collapsed": false,
    "ExecuteTime": {
     "end_time": "2025-02-28T13:45:59.788042200Z",
     "start_time": "2025-02-28T13:41:33.742543100Z"
    }
   },
   "id": "86954582b7683b95",
   "execution_count": 80
  },
  {
   "cell_type": "code",
   "outputs": [],
   "source": [
    "def plot_loss(figure, axes, epochs, loss_dict, config_dict, colors):\n",
    "    with plt.style.context('cyberpunk'):\n",
    "        x_axis = range(1, epochs + 1)\n",
    "        for (loss_type, loss), color in zip(loss_dict.items(), colors):\n",
    "            axes.plot(x_axis, loss, label=f'{loss_type}: {min(loss):.3f}', color=color)\n",
    "        axes.set(**config_dict)\n",
    "        axes.legend()\n",
    "        enhance_plot(figure, axes, glow=True)"
   ],
   "metadata": {
    "collapsed": false,
    "ExecuteTime": {
     "end_time": "2025-02-28T13:45:59.798043800Z",
     "start_time": "2025-02-28T13:45:59.785043500Z"
    }
   },
   "id": "7a721a5b9079ddd4",
   "execution_count": 81
  },
  {
   "cell_type": "code",
   "outputs": [
    {
     "data": {
      "text/plain": "<Figure size 1000x500 with 1 Axes>",
      "image/png": "[encoded data removed]"
     },
     "metadata": {},
     "output_type": "display_data"
    }
   ],
   "source": [
    "with plt.style.context('cyberpunk'):\n",
    "    fig, ax = plt.subplots(1, 1, figsize=(10, 5))\n",
    "    config = {'title': f'Training Loss for Dense Autoencoder {hidden_layers}', \n",
    "              'xlabel': 'Epoch', 'ylabel': 'Loss'}\n",
    "    plot_loss(fig, ax, NUM_EPOCHS, {'MSE': loss_values}, config, ['red'])"
   ],
   "metadata": {
    "collapsed": false,
    "ExecuteTime": {
     "end_time": "2025-02-28T13:45:59.983042500Z",
     "start_time": "2025-02-28T13:45:59.799041400Z"
    }
   },
   "id": "35118d813698f93e",
   "execution_count": 82
  },
  {
   "cell_type": "markdown",
   "source": [
    "Let's try to reconstruct the images with trained model"
   ],
   "metadata": {
    "collapsed": false
   },
   "id": "9922b2871641dbc1"
  },
  {
   "cell_type": "code",
   "outputs": [],
   "source": [
    "def sample_random_digits(mnist_dataset, seed=42):\n",
    "    torch.manual_seed(seed)\n",
    "    targets = mnist_dataset.targets.numpy()\n",
    "    samples = {}\n",
    "    for digit in range(10):\n",
    "        indices = [i for i, label in enumerate(targets) if label == digit]\n",
    "        chosen_idx = np.random.choice(indices)\n",
    "        samples[digit] = mnist_dataset[chosen_idx][0]\n",
    "    return samples\n",
    "\n",
    "def compare_generated_to_original_mnist(model_dict, mnist_dataset):\n",
    "    n_rows = len(model_dict) + 1\n",
    "    figure, axes = plt.subplots(n_rows, 10, figsize=(15, 2 * n_rows))\n",
    "    image_dict = sample_random_digits(mnist_dataset, seed=42)\n",
    "    for digit, img in image_dict.items():\n",
    "        axes[0, digit].imshow(img.permute(1, 2, 0).numpy(), cmap='Greys')\n",
    "        for i, (_, model) in enumerate(model_dict.items(), start=1):\n",
    "            model.eval()\n",
    "            reconstruction = model.cpu()(img.unsqueeze(0)).squeeze(0)\n",
    "            axes[i, digit].imshow(reconstruction.detach().permute(1, 2, 0).numpy(), \n",
    "                                  cmap='Greys')\n",
    "    for ax in axes.ravel():\n",
    "        ax.axis(False)\n",
    "    model_names = {'Original': None, **model_dict}\n",
    "    for i, (model_name, _) in enumerate(model_names.items()):\n",
    "        x_coord = axes[i, 0].get_position().y1 + 0.05\n",
    "        figure.text(0.5, x_coord, model_name, ha='center', va='center', fontsize=18)"
   ],
   "metadata": {
    "collapsed": false,
    "ExecuteTime": {
     "end_time": "2025-02-28T13:46:00.020542100Z",
     "start_time": "2025-02-28T13:45:59.988043800Z"
    }
   },
   "id": "71f34b5885a7d411",
   "execution_count": 83
  },
  {
   "cell_type": "code",
   "outputs": [
    {
     "data": {
      "text/plain": "<Figure size 1500x400 with 20 Axes>",
      "image/png": "[encoded data removed]"
     },
     "metadata": {},
     "output_type": "display_data"
    }
   ],
   "source": [
    "compare_generated_to_original_mnist({'1': autoencoder}, mnist_test)"
   ],
   "metadata": {
    "collapsed": false,
    "ExecuteTime": {
     "end_time": "2025-02-28T13:46:00.526042Z",
     "start_time": "2025-02-28T13:46:00.000041100Z"
    }
   },
   "id": "35534ee39a733d76",
   "execution_count": 84
  },
  {
   "cell_type": "code",
   "outputs": [],
   "source": [],
   "metadata": {
    "collapsed": false,
    "ExecuteTime": {
     "end_time": "2025-02-28T13:46:00.561041300Z",
     "start_time": "2025-02-28T13:46:00.526541Z"
    }
   },
   "id": "48b5d8bea227562c",
   "execution_count": 84
  }
 ],
 "metadata": {
  "kernelspec": {
   "display_name": "Python 3",
   "language": "python",
   "name": "python3"
  },
  "language_info": {
   "codemirror_mode": {
    "name": "ipython",
    "version": 2
   },
   "file_extension": ".py",
   "mimetype": "text/x-python",
   "name": "python",
   "nbconvert_exporter": "python",
   "pygments_lexer": "ipython2",
   "version": "2.7.6"
  }
 },
 "nbformat": 4,
 "nbformat_minor": 5
}
