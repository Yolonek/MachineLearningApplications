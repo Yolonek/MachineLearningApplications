{
 "cells": [
  {
   "cell_type": "markdown",
   "source": [
    "# Dense Variational Autoencoder"
   ],
   "metadata": {
    "collapsed": false
   },
   "id": "3be0af905bccde6b"
  },
  {
   "cell_type": "code",
   "outputs": [],
   "source": [
    "import torch\n",
    "from torch import nn\n",
    "from torchsummary import summary\n",
    "from functools import reduce\n",
    "import operator"
   ],
   "metadata": {
    "collapsed": false,
    "ExecuteTime": {
     "end_time": "2025-03-10T15:34:57.237005100Z",
     "start_time": "2025-03-10T15:34:55.376007200Z"
    }
   },
   "id": "804347b0365e2256",
   "execution_count": 1
  },
  {
   "cell_type": "code",
   "outputs": [],
   "source": [
    "import sys\n",
    "sys.path.append('..')\n",
    "from ModelClasses.Autoencoders import DenseBlock, DenseDecoder"
   ],
   "metadata": {
    "collapsed": false,
    "ExecuteTime": {
     "end_time": "2025-03-10T15:34:57.243504600Z",
     "start_time": "2025-03-10T15:34:57.238005300Z"
    }
   },
   "id": "5f88bd17710bab53",
   "execution_count": 2
  },
  {
   "cell_type": "code",
   "outputs": [],
   "source": [
    "torch.manual_seed(42)\n",
    "torch.cuda.manual_seed(42)"
   ],
   "metadata": {
    "collapsed": false,
    "ExecuteTime": {
     "end_time": "2025-03-10T15:34:57.269504500Z",
     "start_time": "2025-03-10T15:34:57.244004700Z"
    }
   },
   "id": "d31c2881f51754ac",
   "execution_count": 3
  },
  {
   "cell_type": "code",
   "outputs": [],
   "source": [
    "class DenseVariationalEncoder(DenseBlock):\n",
    "    \n",
    "    def __init__(self,\n",
    "                 input_shape: tuple[int:],\n",
    "                 hidden_layers: tuple[int:] = None,\n",
    "                 latent_space_dimension: int = 2,\n",
    "                 dropout: float = 0.2):\n",
    "        self.input_shape = input_shape\n",
    "        input_size = reduce(operator.mul, input_shape)\n",
    "        super(DenseVariationalEncoder, self).__init__(\n",
    "            input_size=input_size,\n",
    "            hidden_layers=hidden_layers,\n",
    "            dropout=dropout)\n",
    "        self.latent_space_dim = latent_space_dimension\n",
    "        \n",
    "        self.flatten = nn.Flatten()\n",
    "        self.dense_mu, self.dense_logvar = self._build_variational_layer()\n",
    "    \n",
    "    def _build_variational_layer(self):\n",
    "        if self.num_of_layers == 0:\n",
    "            in_features = self.input_size\n",
    "        else:\n",
    "            in_features = self.hidden_layers[-1]\n",
    "        mu = nn.Linear(in_features=in_features,\n",
    "                       out_features=self.latent_space_dim)\n",
    "        logvar = nn.Linear(in_features=in_features,\n",
    "                           out_features=self.latent_space_dim)\n",
    "        return mu, logvar\n",
    "    \n",
    "    def forward(self, x):\n",
    "        x = self.dense_layers(self.flatten(x))\n",
    "        return self.dense_mu(x), self.dense_logvar(x)\n",
    "    \n",
    "    def summary(self):\n",
    "        print(self)"
   ],
   "metadata": {
    "collapsed": false,
    "ExecuteTime": {
     "end_time": "2025-03-10T15:34:57.270004100Z",
     "start_time": "2025-03-10T15:34:57.260505100Z"
    }
   },
   "id": "e284fcd02144d82f",
   "execution_count": 4
  },
  {
   "cell_type": "code",
   "outputs": [
    {
     "name": "stdout",
     "output_type": "stream",
     "text": [
      "DenseVariationalEncoder(\n",
      "  (dense_layers): Sequential(\n",
      "    (dense_layer1): Sequential(\n",
      "      (0): Linear(in_features=784, out_features=256, bias=True)\n",
      "      (1): ReLU()\n",
      "      (2): LayerNorm((256,), eps=1e-05, elementwise_affine=True)\n",
      "      (3): Dropout(p=0.2, inplace=False)\n",
      "    )\n",
      "    (dense_layer2): Sequential(\n",
      "      (0): Linear(in_features=256, out_features=128, bias=True)\n",
      "      (1): ReLU()\n",
      "      (2): LayerNorm((128,), eps=1e-05, elementwise_affine=True)\n",
      "      (3): Dropout(p=0.2, inplace=False)\n",
      "    )\n",
      "  )\n",
      "  (flatten): Flatten(start_dim=1, end_dim=-1)\n",
      "  (dense_mu): Linear(in_features=128, out_features=2, bias=True)\n",
      "  (dense_logvar): Linear(in_features=128, out_features=2, bias=True)\n",
      ")\n"
     ]
    }
   ],
   "source": [
    "INPUT_SHAPE = [1, 28, 28]\n",
    "hidden_layers = [256, 128]\n",
    "latent_space_dim = 2\n",
    "\n",
    "encoder = DenseVariationalEncoder(\n",
    "    input_shape=INPUT_SHAPE,\n",
    "    hidden_layers=hidden_layers,\n",
    "    latent_space_dimension=latent_space_dim\n",
    ")\n",
    "encoder.summary()"
   ],
   "metadata": {
    "collapsed": false,
    "ExecuteTime": {
     "end_time": "2025-03-10T15:34:57.271005700Z",
     "start_time": "2025-03-10T15:34:57.261505100Z"
    }
   },
   "id": "698d415de79bd92b",
   "execution_count": 5
  },
  {
   "cell_type": "code",
   "outputs": [
    {
     "name": "stdout",
     "output_type": "stream",
     "text": [
      "----------------------------------------------------------------\n",
      "        Layer (type)               Output Shape         Param #\n",
      "================================================================\n",
      "           Flatten-1                  [-1, 784]               0\n",
      "            Linear-2                  [-1, 256]         200,960\n",
      "              ReLU-3                  [-1, 256]               0\n",
      "         LayerNorm-4                  [-1, 256]             512\n",
      "           Dropout-5                  [-1, 256]               0\n",
      "            Linear-6                  [-1, 128]          32,896\n",
      "              ReLU-7                  [-1, 128]               0\n",
      "         LayerNorm-8                  [-1, 128]             256\n",
      "           Dropout-9                  [-1, 128]               0\n",
      "           Linear-10                    [-1, 2]             258\n",
      "           Linear-11                    [-1, 2]             258\n",
      "================================================================\n",
      "Total params: 235,140\n",
      "Trainable params: 235,140\n",
      "Non-trainable params: 0\n",
      "----------------------------------------------------------------\n",
      "Input size (MB): 0.00\n",
      "Forward/backward pass size (MB): 0.02\n",
      "Params size (MB): 0.90\n",
      "Estimated Total Size (MB): 0.92\n",
      "----------------------------------------------------------------\n"
     ]
    }
   ],
   "source": [
    "summary(encoder, input_size=tuple(INPUT_SHAPE), device='cpu')"
   ],
   "metadata": {
    "collapsed": false,
    "ExecuteTime": {
     "end_time": "2025-03-10T15:34:57.276006500Z",
     "start_time": "2025-03-10T15:34:57.268504300Z"
    }
   },
   "id": "d194929a8b66a4e7",
   "execution_count": 6
  },
  {
   "cell_type": "code",
   "outputs": [
    {
     "name": "stdout",
     "output_type": "stream",
     "text": [
      "tensor([[-0.1363, -0.0058],\n",
      "        [ 0.0648, -0.6677],\n",
      "        [ 0.6452,  0.2945]], grad_fn=<AddmmBackward0>)\n",
      "tensor([[ 0.1427,  1.1920],\n",
      "        [-1.5359,  0.3155],\n",
      "        [ 0.1362, -0.0895]], grad_fn=<AddmmBackward0>)\n"
     ]
    }
   ],
   "source": [
    "test_tensor = torch.randn(3, *INPUT_SHAPE)\n",
    "encoder_mu, encoder_logvar = encoder(test_tensor)\n",
    "print(encoder_mu)\n",
    "print(encoder_logvar)"
   ],
   "metadata": {
    "collapsed": false,
    "ExecuteTime": {
     "end_time": "2025-03-10T15:34:57.285505500Z",
     "start_time": "2025-03-10T15:34:57.276504900Z"
    }
   },
   "id": "c000c4b9035573c0",
   "execution_count": 7
  },
  {
   "cell_type": "code",
   "outputs": [],
   "source": [
    "class DenseVariationalAutoencoder(nn.Module):\n",
    "    \n",
    "    def __init__(self,\n",
    "                 input_shape: tuple[int:],\n",
    "                 encoder_hidden_layers: tuple[int:] = None,\n",
    "                 decoder_hidden_layers: tuple[int:] = None,\n",
    "                 latent_space_dimension: int = 2,\n",
    "                 dropout: float = 0.1):\n",
    "        super(DenseVariationalAutoencoder, self).__init__()\n",
    "\n",
    "        self.encoder = DenseVariationalEncoder(\n",
    "            input_shape=input_shape,\n",
    "            hidden_layers=encoder_hidden_layers,\n",
    "            latent_space_dimension=latent_space_dimension,\n",
    "            dropout=dropout)\n",
    "\n",
    "        if decoder_hidden_layers is None:\n",
    "            decoder_hidden_layers = self.encoder.hidden_layers[::-1]\n",
    "        self.decoder = DenseDecoder(\n",
    "            output_shape=input_shape,\n",
    "            hidden_layers=decoder_hidden_layers,\n",
    "            latent_space_dimension=latent_space_dimension,\n",
    "            dropout=dropout)\n",
    "    \n",
    "    @staticmethod    \n",
    "    def reparametrization(mu, logvar):\n",
    "        std = torch.exp(0.5 * logvar)\n",
    "        eps = torch.randn_like(std)\n",
    "        return mu + (eps * std)\n",
    "    \n",
    "    def encode_and_reparametrize(self, x):\n",
    "        return self.reparametrization(*self.encoder(x))\n",
    "    \n",
    "    def forward_mu_logvar(self, mu, logvar):\n",
    "        z = self.reparametrization(mu, logvar)\n",
    "        return self.decoder(z)\n",
    "    \n",
    "    def forward(self, x):\n",
    "        mu, logvar = self.encoder(x)\n",
    "        return self.forward_mu_logvar(mu, logvar), mu, logvar\n",
    "    \n",
    "    def summary(self):\n",
    "        print(self)"
   ],
   "metadata": {
    "collapsed": false,
    "ExecuteTime": {
     "end_time": "2025-03-10T15:34:57.295004900Z",
     "start_time": "2025-03-10T15:34:57.284005900Z"
    }
   },
   "id": "e5075f4b9a18b414",
   "execution_count": 8
  },
  {
   "cell_type": "code",
   "outputs": [
    {
     "name": "stdout",
     "output_type": "stream",
     "text": [
      "DenseVariationalAutoencoder(\n",
      "  (encoder): DenseVariationalEncoder(\n",
      "    (dense_layers): Sequential(\n",
      "      (dense_layer1): Sequential(\n",
      "        (0): Linear(in_features=784, out_features=256, bias=True)\n",
      "        (1): ReLU()\n",
      "        (2): LayerNorm((256,), eps=1e-05, elementwise_affine=True)\n",
      "        (3): Dropout(p=0.1, inplace=False)\n",
      "      )\n",
      "      (dense_layer2): Sequential(\n",
      "        (0): Linear(in_features=256, out_features=128, bias=True)\n",
      "        (1): ReLU()\n",
      "        (2): LayerNorm((128,), eps=1e-05, elementwise_affine=True)\n",
      "        (3): Dropout(p=0.1, inplace=False)\n",
      "      )\n",
      "    )\n",
      "    (flatten): Flatten(start_dim=1, end_dim=-1)\n",
      "    (dense_mu): Linear(in_features=128, out_features=2, bias=True)\n",
      "    (dense_logvar): Linear(in_features=128, out_features=2, bias=True)\n",
      "  )\n",
      "  (decoder): DenseDecoder(\n",
      "    (dense_layers): Sequential(\n",
      "      (dense_layer1): Sequential(\n",
      "        (0): Linear(in_features=2, out_features=128, bias=True)\n",
      "        (1): ReLU()\n",
      "        (2): LayerNorm((128,), eps=1e-05, elementwise_affine=True)\n",
      "        (3): Dropout(p=0.1, inplace=False)\n",
      "      )\n",
      "      (dense_layer2): Sequential(\n",
      "        (0): Linear(in_features=128, out_features=256, bias=True)\n",
      "        (1): ReLU()\n",
      "        (2): LayerNorm((256,), eps=1e-05, elementwise_affine=True)\n",
      "        (3): Dropout(p=0.1, inplace=False)\n",
      "      )\n",
      "    )\n",
      "    (output_layer): Sequential(\n",
      "      (0): Linear(in_features=256, out_features=784, bias=True)\n",
      "      (1): Sigmoid()\n",
      "    )\n",
      "  )\n",
      ")\n"
     ]
    }
   ],
   "source": [
    "vae = DenseVariationalAutoencoder(\n",
    "    input_shape=INPUT_SHAPE,\n",
    "    encoder_hidden_layers=hidden_layers,\n",
    "    latent_space_dimension=latent_space_dim\n",
    ")\n",
    "vae.summary()"
   ],
   "metadata": {
    "collapsed": false,
    "ExecuteTime": {
     "end_time": "2025-03-10T15:34:57.351005100Z",
     "start_time": "2025-03-10T15:34:57.291006300Z"
    }
   },
   "id": "feebf87105c28aef",
   "execution_count": 9
  },
  {
   "cell_type": "code",
   "outputs": [
    {
     "name": "stdout",
     "output_type": "stream",
     "text": [
      "----------------------------------------------------------------\n",
      "        Layer (type)               Output Shape         Param #\n",
      "================================================================\n",
      "           Flatten-1                  [-1, 784]               0\n",
      "            Linear-2                  [-1, 256]         200,960\n",
      "              ReLU-3                  [-1, 256]               0\n",
      "         LayerNorm-4                  [-1, 256]             512\n",
      "           Dropout-5                  [-1, 256]               0\n",
      "            Linear-6                  [-1, 128]          32,896\n",
      "              ReLU-7                  [-1, 128]               0\n",
      "         LayerNorm-8                  [-1, 128]             256\n",
      "           Dropout-9                  [-1, 128]               0\n",
      "           Linear-10                    [-1, 2]             258\n",
      "           Linear-11                    [-1, 2]             258\n",
      "DenseVariationalEncoder-12         [[-1, 2], [-1, 2]]               0\n",
      "           Linear-13                  [-1, 128]             384\n",
      "             ReLU-14                  [-1, 128]               0\n",
      "        LayerNorm-15                  [-1, 128]             256\n",
      "          Dropout-16                  [-1, 128]               0\n",
      "           Linear-17                  [-1, 256]          33,024\n",
      "             ReLU-18                  [-1, 256]               0\n",
      "        LayerNorm-19                  [-1, 256]             512\n",
      "          Dropout-20                  [-1, 256]               0\n",
      "           Linear-21                  [-1, 784]         201,488\n",
      "          Sigmoid-22                  [-1, 784]               0\n",
      "     DenseDecoder-23            [-1, 1, 28, 28]               0\n",
      "================================================================\n",
      "Total params: 470,804\n",
      "Trainable params: 470,804\n",
      "Non-trainable params: 0\n",
      "----------------------------------------------------------------\n",
      "Input size (MB): 0.00\n",
      "Forward/backward pass size (MB): 0.05\n",
      "Params size (MB): 1.80\n",
      "Estimated Total Size (MB): 1.85\n",
      "----------------------------------------------------------------\n"
     ]
    }
   ],
   "source": [
    "summary(vae, input_size=tuple(INPUT_SHAPE), device='cpu')"
   ],
   "metadata": {
    "collapsed": false,
    "ExecuteTime": {
     "end_time": "2025-03-10T15:34:57.351505800Z",
     "start_time": "2025-03-10T15:34:57.303005400Z"
    }
   },
   "id": "1ebd861da211cf5f",
   "execution_count": 10
  },
  {
   "cell_type": "code",
   "outputs": [
    {
     "data": {
      "text/plain": "torch.Size([3, 1, 28, 28])"
     },
     "execution_count": 11,
     "metadata": {},
     "output_type": "execute_result"
    }
   ],
   "source": [
    "decoder_output = vae.forward_mu_logvar(encoder_mu, encoder_logvar)\n",
    "decoder_output.shape"
   ],
   "metadata": {
    "collapsed": false,
    "ExecuteTime": {
     "end_time": "2025-03-10T15:34:57.352506Z",
     "start_time": "2025-03-10T15:34:57.312006200Z"
    }
   },
   "id": "4f938fd9332ca0aa",
   "execution_count": 11
  },
  {
   "cell_type": "code",
   "outputs": [
    {
     "data": {
      "text/plain": "torch.Size([3, 1, 28, 28])"
     },
     "execution_count": 12,
     "metadata": {},
     "output_type": "execute_result"
    }
   ],
   "source": [
    "decoder_output, _, _ = vae(test_tensor)\n",
    "decoder_output.shape"
   ],
   "metadata": {
    "collapsed": false,
    "ExecuteTime": {
     "end_time": "2025-03-10T15:34:57.392005400Z",
     "start_time": "2025-03-10T15:34:57.320506300Z"
    }
   },
   "id": "471d225ce1ccf693",
   "execution_count": 12
  },
  {
   "cell_type": "code",
   "outputs": [],
   "source": [],
   "metadata": {
    "collapsed": false,
    "ExecuteTime": {
     "end_time": "2025-03-10T15:34:57.392505500Z",
     "start_time": "2025-03-10T15:34:57.327505200Z"
    }
   },
   "id": "3562ca6b7da0b158",
   "execution_count": 12
  }
 ],
 "metadata": {
  "kernelspec": {
   "display_name": "Python 3",
   "language": "python",
   "name": "python3"
  },
  "language_info": {
   "codemirror_mode": {
    "name": "ipython",
    "version": 2
   },
   "file_extension": ".py",
   "mimetype": "text/x-python",
   "name": "python",
   "nbconvert_exporter": "python",
   "pygments_lexer": "ipython2",
   "version": "2.7.6"
  }
 },
 "nbformat": 4,
 "nbformat_minor": 5
}
