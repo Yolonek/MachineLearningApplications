{
 "cells": [
  {
   "cell_type": "code",
   "execution_count": 1,
   "id": "initial_id",
   "metadata": {
    "ExecuteTime": {
     "end_time": "2024-04-09T19:37:27.070434900Z",
     "start_time": "2024-04-09T19:37:25.126935600Z"
    }
   },
   "outputs": [],
   "source": [
    "import torch\n",
    "from tqdm import tqdm\n",
    "from torch import nn"
   ]
  },
  {
   "cell_type": "markdown",
   "id": "139fb25cc09dbca",
   "metadata": {
    "collapsed": false,
    "jupyter": {
     "outputs_hidden": false
    }
   },
   "source": [
    "# Universal Neural Network class\n",
    "\n",
    "We can specify arbitrary number of layers and their sizes"
   ]
  },
  {
   "cell_type": "code",
   "execution_count": 2,
   "id": "750ba8ab3a60a160",
   "metadata": {
    "ExecuteTime": {
     "end_time": "2024-04-09T19:37:27.085935400Z",
     "start_time": "2024-04-09T19:37:27.077435200Z"
    },
    "collapsed": false,
    "jupyter": {
     "outputs_hidden": false
    }
   },
   "outputs": [],
   "source": [
    "class ModularNeuralNetwork(nn.Module):\n",
    "    def __init__(self, \n",
    "                 input_size: int, \n",
    "                 output_size: int, \n",
    "                 layer_sizes: tuple[int] = (), \n",
    "                 activation_function: nn.modules.activation = nn.Tanh()):\n",
    "        super(ModularNeuralNetwork, self).__init__()\n",
    "        if len(layer_sizes) == 0:\n",
    "            self.layers = nn.Sequential(\n",
    "                nn.Linear(in_features=input_size, out_features=output_size),\n",
    "                activation_function\n",
    "            )\n",
    "        elif len(layer_sizes) == 1:\n",
    "            size = layer_sizes[0]\n",
    "            self.layers = nn.Sequential(\n",
    "                nn.Linear(in_features=input_size, out_features=size),\n",
    "                activation_function,\n",
    "                nn.Linear(in_features=size, out_features=output_size),\n",
    "                activation_function\n",
    "            )\n",
    "        else:\n",
    "            layers = []\n",
    "            for index, layer_size in enumerate(layer_sizes):\n",
    "                if index == 0:\n",
    "                    layer = nn.Linear(in_features=input_size, out_features=layer_size)\n",
    "                else:\n",
    "                    layer = nn.Linear(in_features=layer_sizes[index - 1], \n",
    "                                      out_features=layer_size)\n",
    "                layers += [layer, activation_function]\n",
    "            layers += [nn.Linear(in_features=layer_sizes[-1], \n",
    "                                 out_features=output_size), \n",
    "                       activation_function]\n",
    "            self.layers = nn.Sequential(*layers)\n",
    "    \n",
    "    def forward(self, x: torch.Tensor) -> torch.Tensor:\n",
    "        return self.layers(x)"
   ]
  },
  {
   "cell_type": "markdown",
   "id": "c34c60a870e1022",
   "metadata": {
    "collapsed": false,
    "jupyter": {
     "outputs_hidden": false
    }
   },
   "source": [
    "# Adding Binary Numbers"
   ]
  },
  {
   "cell_type": "code",
   "execution_count": 3,
   "id": "852b4792d84cb0be",
   "metadata": {
    "ExecuteTime": {
     "end_time": "2024-04-09T19:37:27.107938700Z",
     "start_time": "2024-04-09T19:37:27.086436800Z"
    },
    "collapsed": false,
    "jupyter": {
     "outputs_hidden": false
    }
   },
   "outputs": [],
   "source": [
    "X = torch.tensor([[0, 0], [0, 1], [1, 0], [1, 1]], dtype=torch.float32)\n",
    "y = torch.tensor([[0, 0], [0, 1], [0, 1], [1, 0]], dtype=torch.float32)"
   ]
  },
  {
   "cell_type": "code",
   "execution_count": 4,
   "id": "c3e71f19cc15f7b0",
   "metadata": {
    "ExecuteTime": {
     "end_time": "2024-04-09T19:37:27.395434800Z",
     "start_time": "2024-04-09T19:37:27.103438600Z"
    },
    "collapsed": false,
    "jupyter": {
     "outputs_hidden": false
    }
   },
   "outputs": [
    {
     "data": {
      "text/plain": [
       "ModularNeuralNetwork(\n",
       "  (layers): Sequential(\n",
       "    (0): Linear(in_features=2, out_features=2, bias=True)\n",
       "    (1): Sigmoid()\n",
       "  )\n",
       ")"
      ]
     },
     "execution_count": 4,
     "metadata": {},
     "output_type": "execute_result"
    }
   ],
   "source": [
    "input_size, output_size = 2, 2\n",
    "hidden_layers = []\n",
    "learning_rate = 0.2\n",
    "model = ModularNeuralNetwork(input_size=input_size,\n",
    "                             output_size=output_size,\n",
    "                             layer_sizes=hidden_layers,\n",
    "                             activation_function=nn.Sigmoid())\n",
    "optimizer = torch.optim.SGD(model.parameters(), lr=learning_rate)\n",
    "loss_fn = nn.MSELoss()\n",
    "model"
   ]
  },
  {
   "cell_type": "code",
   "execution_count": 5,
   "id": "4f7678b95feb0eb6",
   "metadata": {
    "ExecuteTime": {
     "end_time": "2024-04-09T19:37:27.422434900Z",
     "start_time": "2024-04-09T19:37:27.398937200Z"
    },
    "collapsed": false,
    "jupyter": {
     "outputs_hidden": false
    }
   },
   "outputs": [],
   "source": [
    "def train(epochs):\n",
    "    model.train()\n",
    "    loss = 0\n",
    "    for _ in tqdm(range(epochs)):\n",
    "        y_pred = model(X)\n",
    "        loss = loss_fn(y_pred, y)\n",
    "        optimizer.zero_grad()\n",
    "        loss.backward()\n",
    "        optimizer.step()\n",
    "    print(f'Last loss value: {loss}')\n",
    "    model.eval()\n",
    "    with torch.inference_mode():\n",
    "        for i, x in enumerate(X):\n",
    "            y_ = model(x)\n",
    "            print(f'{x[0].item()} + {x[1].item()} = {y_[0].item():.4f} {y_[1].item():.4f}')"
   ]
  },
  {
   "cell_type": "code",
   "execution_count": 6,
   "id": "9c971445a419fd7f",
   "metadata": {
    "ExecuteTime": {
     "end_time": "2024-04-09T19:37:30.868937600Z",
     "start_time": "2024-04-09T19:37:27.412936500Z"
    },
    "collapsed": false,
    "jupyter": {
     "outputs_hidden": false
    }
   },
   "outputs": [
    {
     "name": "stderr",
     "output_type": "stream",
     "text": [
      "100%|█████████████████████████████████████████████████████████████████████████████████████████████████████| 10000/10000 [00:03<00:00, 2995.80it/s]"
     ]
    },
    {
     "name": "stdout",
     "output_type": "stream",
     "text": [
      "Last loss value: 0.12788233160972595\n",
      "0.0 + 0.0 = 0.0009 0.5000\n",
      "0.0 + 1.0 = 0.0820 0.5000\n",
      "1.0 + 0.0 = 0.0820 0.5000\n",
      "1.0 + 1.0 = 0.9020 0.5000\n"
     ]
    },
    {
     "name": "stderr",
     "output_type": "stream",
     "text": [
      "\n"
     ]
    }
   ],
   "source": [
    "N_epochs = 10000\n",
    "train(N_epochs)"
   ]
  },
  {
   "cell_type": "markdown",
   "id": "ae1f701763347d45",
   "metadata": {
    "collapsed": false,
    "jupyter": {
     "outputs_hidden": false
    }
   },
   "source": [
    "First bit is predicted correctly, but second is random. We need more layers and neurons."
   ]
  },
  {
   "cell_type": "code",
   "execution_count": 7,
   "id": "42159195de3f42d3",
   "metadata": {
    "ExecuteTime": {
     "end_time": "2024-04-09T19:37:30.887935400Z",
     "start_time": "2024-04-09T19:37:30.869436400Z"
    },
    "collapsed": false,
    "jupyter": {
     "outputs_hidden": false
    }
   },
   "outputs": [
    {
     "data": {
      "text/plain": [
       "ModularNeuralNetwork(\n",
       "  (layers): Sequential(\n",
       "    (0): Linear(in_features=2, out_features=2, bias=True)\n",
       "    (1): Sigmoid()\n",
       "    (2): Linear(in_features=2, out_features=2, bias=True)\n",
       "    (3): Sigmoid()\n",
       "  )\n",
       ")"
      ]
     },
     "execution_count": 7,
     "metadata": {},
     "output_type": "execute_result"
    }
   ],
   "source": [
    "input_size, output_size = 2, 2\n",
    "hidden_layers = [2]\n",
    "learning_rate = 0.2\n",
    "model = ModularNeuralNetwork(input_size=input_size,\n",
    "                             output_size=output_size,\n",
    "                             layer_sizes=hidden_layers,\n",
    "                             activation_function=nn.Sigmoid())\n",
    "optimizer = torch.optim.SGD(model.parameters(), lr=learning_rate)\n",
    "loss_fn = nn.MSELoss()\n",
    "model"
   ]
  },
  {
   "cell_type": "code",
   "execution_count": 8,
   "id": "2c1b4a8e90e287e",
   "metadata": {
    "ExecuteTime": {
     "end_time": "2024-04-09T19:37:52.055935600Z",
     "start_time": "2024-04-09T19:37:30.885435100Z"
    },
    "collapsed": false,
    "jupyter": {
     "outputs_hidden": false
    }
   },
   "outputs": [
    {
     "name": "stderr",
     "output_type": "stream",
     "text": [
      "100%|█████████████████████████████████████████████████████████████████████████████████████████████████████| 50000/50000 [00:20<00:00, 2426.77it/s]"
     ]
    },
    {
     "name": "stdout",
     "output_type": "stream",
     "text": [
      "Last loss value: 0.00046608573757112026\n",
      "0.0 + 0.0 = 0.0008 0.0234\n",
      "0.0 + 1.0 = 0.0157 0.9762\n",
      "1.0 + 0.0 = 0.0157 0.9762\n",
      "1.0 + 1.0 = 0.9733 0.0289\n"
     ]
    },
    {
     "name": "stderr",
     "output_type": "stream",
     "text": [
      "\n"
     ]
    }
   ],
   "source": [
    "N_epochs = 50000\n",
    "train(N_epochs)"
   ]
  },
  {
   "cell_type": "markdown",
   "id": "254f05d9f5c7fc21",
   "metadata": {
    "collapsed": false,
    "jupyter": {
     "outputs_hidden": false
    }
   },
   "source": [
    "Probabilities are already correct, but let's more neurons"
   ]
  },
  {
   "cell_type": "code",
   "execution_count": 9,
   "id": "d2676065baf88239",
   "metadata": {
    "ExecuteTime": {
     "end_time": "2024-04-09T19:37:52.083937200Z",
     "start_time": "2024-04-09T19:37:52.058935800Z"
    },
    "collapsed": false,
    "jupyter": {
     "outputs_hidden": false
    }
   },
   "outputs": [
    {
     "data": {
      "text/plain": [
       "ModularNeuralNetwork(\n",
       "  (layers): Sequential(\n",
       "    (0): Linear(in_features=2, out_features=20, bias=True)\n",
       "    (1): Sigmoid()\n",
       "    (2): Linear(in_features=20, out_features=2, bias=True)\n",
       "    (3): Sigmoid()\n",
       "  )\n",
       ")"
      ]
     },
     "execution_count": 9,
     "metadata": {},
     "output_type": "execute_result"
    }
   ],
   "source": [
    "input_size, output_size = 2, 2\n",
    "hidden_layers = [20]\n",
    "learning_rate = 0.2\n",
    "model = ModularNeuralNetwork(input_size=input_size,\n",
    "                             output_size=output_size,\n",
    "                             layer_sizes=hidden_layers,\n",
    "                             activation_function=nn.Sigmoid())\n",
    "optimizer = torch.optim.SGD(model.parameters(), lr=learning_rate)\n",
    "loss_fn = nn.MSELoss()\n",
    "model"
   ]
  },
  {
   "cell_type": "code",
   "execution_count": 10,
   "id": "207d0bb2228abeb6",
   "metadata": {
    "ExecuteTime": {
     "end_time": "2024-04-09T19:38:16.407434400Z",
     "start_time": "2024-04-09T19:37:52.072939Z"
    },
    "collapsed": false,
    "jupyter": {
     "outputs_hidden": false
    }
   },
   "outputs": [
    {
     "name": "stderr",
     "output_type": "stream",
     "text": [
      "100%|█████████████████████████████████████████████████████████████████████████████████████████████████████| 50000/50000 [00:23<00:00, 2145.97it/s]"
     ]
    },
    {
     "name": "stdout",
     "output_type": "stream",
     "text": [
      "Last loss value: 0.00023986594169400632\n",
      "0.0 + 0.0 = 0.0000 0.0179\n",
      "0.0 + 1.0 = 0.0106 0.9810\n",
      "1.0 + 0.0 = 0.0111 0.9810\n",
      "1.0 + 1.0 = 0.9853 0.0206\n"
     ]
    },
    {
     "name": "stderr",
     "output_type": "stream",
     "text": [
      "\n"
     ]
    }
   ],
   "source": [
    "N_epochs = 50000\n",
    "train(N_epochs)"
   ]
  },
  {
   "cell_type": "markdown",
   "id": "4ce380824459bd2e",
   "metadata": {
    "collapsed": false,
    "jupyter": {
     "outputs_hidden": false
    }
   },
   "source": [
    "We can see a small improvement. Let's add more layers."
   ]
  },
  {
   "cell_type": "code",
   "execution_count": 11,
   "id": "bc0a04596a99f489",
   "metadata": {
    "ExecuteTime": {
     "end_time": "2024-04-09T19:38:16.432436800Z",
     "start_time": "2024-04-09T19:38:16.410434800Z"
    },
    "collapsed": false,
    "jupyter": {
     "outputs_hidden": false
    }
   },
   "outputs": [
    {
     "data": {
      "text/plain": [
       "ModularNeuralNetwork(\n",
       "  (layers): Sequential(\n",
       "    (0): Linear(in_features=2, out_features=5, bias=True)\n",
       "    (1): Sigmoid()\n",
       "    (2): Linear(in_features=5, out_features=5, bias=True)\n",
       "    (3): Sigmoid()\n",
       "    (4): Linear(in_features=5, out_features=2, bias=True)\n",
       "    (5): Sigmoid()\n",
       "  )\n",
       ")"
      ]
     },
     "execution_count": 11,
     "metadata": {},
     "output_type": "execute_result"
    }
   ],
   "source": [
    "input_size, output_size = 2, 2\n",
    "hidden_layers = [5, 5]\n",
    "learning_rate = 0.2\n",
    "model = ModularNeuralNetwork(input_size=input_size,\n",
    "                             output_size=output_size,\n",
    "                             layer_sizes=hidden_layers,\n",
    "                             activation_function=nn.Sigmoid())\n",
    "optimizer = torch.optim.SGD(model.parameters(), lr=learning_rate)\n",
    "loss_fn = nn.MSELoss()\n",
    "model"
   ]
  },
  {
   "cell_type": "code",
   "execution_count": 12,
   "id": "357baefc376eae02",
   "metadata": {
    "ExecuteTime": {
     "end_time": "2024-04-09T19:38:41.082435900Z",
     "start_time": "2024-04-09T19:38:16.425435700Z"
    },
    "collapsed": false,
    "jupyter": {
     "outputs_hidden": false
    }
   },
   "outputs": [
    {
     "name": "stderr",
     "output_type": "stream",
     "text": [
      "100%|█████████████████████████████████████████████████████████████████████████████████████████████████████| 50000/50000 [00:23<00:00, 2092.53it/s]"
     ]
    },
    {
     "name": "stdout",
     "output_type": "stream",
     "text": [
      "Last loss value: 0.00024288444546982646\n",
      "0.0 + 0.0 = 0.0000 0.0215\n",
      "0.0 + 1.0 = 0.0086 0.9812\n",
      "1.0 + 0.0 = 0.0088 0.9815\n",
      "1.0 + 1.0 = 0.9865 0.0212\n"
     ]
    },
    {
     "name": "stderr",
     "output_type": "stream",
     "text": [
      "\n"
     ]
    }
   ],
   "source": [
    "N_epochs = 50000\n",
    "train(N_epochs)"
   ]
  },
  {
   "cell_type": "code",
   "execution_count": 13,
   "id": "2566ca9ba534c989",
   "metadata": {
    "ExecuteTime": {
     "end_time": "2024-04-09T19:38:41.107934300Z",
     "start_time": "2024-04-09T19:38:41.085435200Z"
    },
    "collapsed": false,
    "jupyter": {
     "outputs_hidden": false
    }
   },
   "outputs": [
    {
     "data": {
      "text/plain": [
       "ModularNeuralNetwork(\n",
       "  (layers): Sequential(\n",
       "    (0): Linear(in_features=2, out_features=20, bias=True)\n",
       "    (1): Sigmoid()\n",
       "    (2): Linear(in_features=20, out_features=20, bias=True)\n",
       "    (3): Sigmoid()\n",
       "    (4): Linear(in_features=20, out_features=20, bias=True)\n",
       "    (5): Sigmoid()\n",
       "    (6): Linear(in_features=20, out_features=20, bias=True)\n",
       "    (7): Sigmoid()\n",
       "    (8): Linear(in_features=20, out_features=2, bias=True)\n",
       "    (9): Sigmoid()\n",
       "  )\n",
       ")"
      ]
     },
     "execution_count": 13,
     "metadata": {},
     "output_type": "execute_result"
    }
   ],
   "source": [
    "input_size, output_size = 2, 2\n",
    "hidden_layers = [20, 20, 20, 20]\n",
    "learning_rate = 0.2\n",
    "model = ModularNeuralNetwork(input_size=input_size,\n",
    "                             output_size=output_size,\n",
    "                             layer_sizes=hidden_layers,\n",
    "                             activation_function=nn.Sigmoid())\n",
    "optimizer = torch.optim.SGD(model.parameters(), lr=learning_rate)\n",
    "loss_fn = nn.MSELoss()\n",
    "model"
   ]
  },
  {
   "cell_type": "code",
   "execution_count": 14,
   "id": "c6692816ec756c5c",
   "metadata": {
    "ExecuteTime": {
     "end_time": "2024-04-09T19:39:21.475937Z",
     "start_time": "2024-04-09T19:38:41.101938100Z"
    },
    "collapsed": false,
    "jupyter": {
     "outputs_hidden": false
    }
   },
   "outputs": [
    {
     "name": "stderr",
     "output_type": "stream",
     "text": [
      "100%|█████████████████████████████████████████████████████████████████████████████████████████████████████| 50000/50000 [00:39<00:00, 1274.65it/s]"
     ]
    },
    {
     "name": "stdout",
     "output_type": "stream",
     "text": [
      "Last loss value: 0.0002505574666429311\n",
      "0.0 + 0.0 = 0.0000 0.0212\n",
      "0.0 + 1.0 = 0.0086 0.9794\n",
      "1.0 + 0.0 = 0.0086 0.9793\n",
      "1.0 + 1.0 = 0.9918 0.0220\n"
     ]
    },
    {
     "name": "stderr",
     "output_type": "stream",
     "text": [
      "\n"
     ]
    }
   ],
   "source": [
    "N_epochs = 50000\n",
    "train(N_epochs)"
   ]
  },
  {
   "cell_type": "markdown",
   "id": "140ad28c07c5c924",
   "metadata": {
    "collapsed": false,
    "jupyter": {
     "outputs_hidden": false
    }
   },
   "source": [
    "# Multiplication"
   ]
  },
  {
   "cell_type": "code",
   "execution_count": 15,
   "id": "deb9a1e9a93a3286",
   "metadata": {
    "ExecuteTime": {
     "end_time": "2024-04-09T19:39:21.501434Z",
     "start_time": "2024-04-09T19:39:21.477935800Z"
    },
    "collapsed": false,
    "jupyter": {
     "outputs_hidden": false
    }
   },
   "outputs": [],
   "source": [
    "X = torch.tensor([0, 1], dtype=torch.float32).view(-1, 1)\n",
    "y = torch.tensor([[0, 0], [1, 0]], dtype=torch.float32)"
   ]
  },
  {
   "cell_type": "code",
   "execution_count": 16,
   "id": "a8dc63c2b537812c",
   "metadata": {
    "ExecuteTime": {
     "end_time": "2024-04-09T19:39:21.506434200Z",
     "start_time": "2024-04-09T19:39:21.494434600Z"
    },
    "collapsed": false,
    "jupyter": {
     "outputs_hidden": false
    }
   },
   "outputs": [
    {
     "data": {
      "text/plain": [
       "ModularNeuralNetwork(\n",
       "  (layers): Sequential(\n",
       "    (0): Linear(in_features=1, out_features=2, bias=True)\n",
       "    (1): Sigmoid()\n",
       "  )\n",
       ")"
      ]
     },
     "execution_count": 16,
     "metadata": {},
     "output_type": "execute_result"
    }
   ],
   "source": [
    "input_size, output_size = 1, 2\n",
    "hidden_layers = []\n",
    "learning_rate = 0.2\n",
    "model = ModularNeuralNetwork(input_size=input_size,\n",
    "                             output_size=output_size,\n",
    "                             layer_sizes=hidden_layers,\n",
    "                             activation_function=nn.Sigmoid())\n",
    "optimizer = torch.optim.SGD(model.parameters(), lr=learning_rate)\n",
    "loss_fn = nn.MSELoss()\n",
    "model"
   ]
  },
  {
   "cell_type": "code",
   "execution_count": 17,
   "id": "2c77f159fc7a0882",
   "metadata": {
    "ExecuteTime": {
     "end_time": "2024-04-09T19:39:21.521934400Z",
     "start_time": "2024-04-09T19:39:21.508934400Z"
    },
    "collapsed": false,
    "jupyter": {
     "outputs_hidden": false
    }
   },
   "outputs": [],
   "source": [
    "def train(epochs):\n",
    "    model.train()\n",
    "    loss = 0\n",
    "    for _ in tqdm(range(epochs)):\n",
    "        y_pred = model(X)\n",
    "        loss = loss_fn(y_pred, y)\n",
    "        optimizer.zero_grad()\n",
    "        loss.backward()\n",
    "        optimizer.step()\n",
    "    print(f'Last loss value: {loss}')\n",
    "    model.eval()\n",
    "    with torch.inference_mode():\n",
    "        for i, x in enumerate(X):\n",
    "            y_ = model(x)\n",
    "            print(f'{x.item()} * 2 = {y_[0].item():.4f} {y_[1].item():.4f}')"
   ]
  },
  {
   "cell_type": "code",
   "execution_count": 18,
   "id": "baf6d2acc708ea80",
   "metadata": {
    "ExecuteTime": {
     "end_time": "2024-04-09T19:39:24.916434200Z",
     "start_time": "2024-04-09T19:39:21.522434300Z"
    },
    "collapsed": false,
    "jupyter": {
     "outputs_hidden": false
    }
   },
   "outputs": [
    {
     "name": "stderr",
     "output_type": "stream",
     "text": [
      "100%|█████████████████████████████████████████████████████████████████████████████████████████████████████| 10000/10000 [00:03<00:00, 3022.97it/s]"
     ]
    },
    {
     "name": "stdout",
     "output_type": "stream",
     "text": [
      "Last loss value: 0.0008681220933794975\n",
      "0.0 * 2 = 0.0422 0.0213\n",
      "1.0 * 2 = 0.9658 0.0083\n"
     ]
    },
    {
     "name": "stderr",
     "output_type": "stream",
     "text": [
      "\n"
     ]
    }
   ],
   "source": [
    "N_epochs = 10000\n",
    "train(N_epochs)"
   ]
  },
  {
   "cell_type": "code",
   "execution_count": null,
   "id": "f5f321da17fdf32c",
   "metadata": {
    "ExecuteTime": {
     "end_time": "2024-04-09T19:39:24.931934600Z",
     "start_time": "2024-04-09T19:39:24.917934900Z"
    },
    "collapsed": false,
    "jupyter": {
     "outputs_hidden": false
    }
   },
   "outputs": [],
   "source": []
  }
 ],
 "metadata": {
  "kernelspec": {
   "display_name": "Python 3 (ipykernel)",
   "language": "python",
   "name": "python3"
  },
  "language_info": {
   "codemirror_mode": {
    "name": "ipython",
    "version": 3
   },
   "file_extension": ".py",
   "mimetype": "text/x-python",
   "name": "python",
   "nbconvert_exporter": "python",
   "pygments_lexer": "ipython3",
   "version": "3.9.13"
  }
 },
 "nbformat": 4,
 "nbformat_minor": 5
}
