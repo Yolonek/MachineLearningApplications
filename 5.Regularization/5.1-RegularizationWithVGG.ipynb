{
 "cells": [
  {
   "cell_type": "code",
   "execution_count": 11,
   "id": "initial_id",
   "metadata": {
    "collapsed": true,
    "ExecuteTime": {
     "end_time": "2024-06-10T14:19:16.249515700Z",
     "start_time": "2024-06-10T14:19:16.183338800Z"
    }
   },
   "outputs": [],
   "source": [
    "import sys\n",
    "sys.path.append('..')"
   ]
  },
  {
   "cell_type": "code",
   "outputs": [],
   "source": [
    "import os\n",
    "import torch\n",
    "import torch.nn as nn\n",
    "import numpy as np\n",
    "from pathlib import Path\n",
    "from tqdm import tqdm\n",
    "from itertools import product\n",
    "from dataclasses import dataclass\n",
    "from matplotlib import pyplot as plt\n",
    "from timeit import default_timer as timer\n",
    "from torch.utils.data import DataLoader, Subset\n",
    "from torchvision import datasets, transforms, models\n",
    "from typing import List, Dict\n",
    "from CommonFunctions import enhance_plot\n",
    "from Models import SimpleCNN, ModularVGG\n",
    "from Utils import *\n",
    "%matplotlib inline"
   ],
   "metadata": {
    "collapsed": false,
    "ExecuteTime": {
     "end_time": "2024-06-10T14:19:16.328388700Z",
     "start_time": "2024-06-10T14:19:16.242836300Z"
    }
   },
   "id": "9cda449b9da2b66d",
   "execution_count": 12
  },
  {
   "cell_type": "code",
   "outputs": [
    {
     "data": {
      "text/plain": "LearningParameters(batch_size=128, cpu_count=4, learning_rate=0.05, momentum=0.9, weight_decay=0.001, epochs=150, device=device(type='cpu'), dropout=0.3, batch_norm=True)"
     },
     "execution_count": 13,
     "metadata": {},
     "output_type": "execute_result"
    }
   ],
   "source": [
    "PARAMS = LearningParameters()\n",
    "KERNEL_PARAMS = dict(kernel_size=3, stride=1, padding=1)\n",
    "\n",
    "def VGG11():\n",
    "    model_config = dict(\n",
    "        CONV=dict(\n",
    "            conv_layers=[[64],\n",
    "                         [128],\n",
    "                         [256, 256],\n",
    "                         [512, 512],\n",
    "                         [512, 512]],\n",
    "            kernel_params=KERNEL_PARAMS,\n",
    "            batch_norm=PARAMS.batch_norm\n",
    "        ),\n",
    "        FC=dict(\n",
    "            layer_sizes=[4096, 4096, 1000],\n",
    "            dropout=PARAMS.dropout\n",
    "        )\n",
    "    )\n",
    "    return ModularVGG(input_layer_size=3,\n",
    "                      num_of_classes=10,\n",
    "                      image_size=32,\n",
    "                      config=model_config)\n",
    "PARAMS"
   ],
   "metadata": {
    "collapsed": false,
    "ExecuteTime": {
     "end_time": "2024-06-10T14:19:16.335098100Z",
     "start_time": "2024-06-10T14:19:16.302561500Z"
    }
   },
   "id": "d35c6ac46c28f2ca",
   "execution_count": 13
  },
  {
   "cell_type": "code",
   "outputs": [],
   "source": [
    "def train_step_with_reg(model, dataloader, criterion, accuracy_function, optimizer, device,\n",
    "                        L1_lambda=0, L2_lambda=0):\n",
    "    train_loss, accuracy = 0, 0\n",
    "    model.train()\n",
    "    for batch, (X, y) in enumerate(dataloader):\n",
    "        X, y = X.to(device), y.to(device)\n",
    "        y_pred = model(X)\n",
    "        loss = criterion(y_pred, y)\n",
    "        L1_norm = sum(p.abs().sum() for p in model.parameters())\n",
    "        L2_norm = sum((p**2).sum() for p in model.parameters())\n",
    "        train_loss += loss.item()\n",
    "        accuracy += accuracy_function(y_pred.argmax(dim=1), y)\n",
    "        optimizer.zero_grad()\n",
    "        loss_regularized = loss + L1_norm*L1_lambda + L2_norm*L2_lambda\n",
    "        loss_regularized.backward()\n",
    "        optimizer.step()\n",
    "    train_loss /= (data_len := len(dataloader))\n",
    "    accuracy /= data_len\n",
    "    return train_loss, accuracy\n",
    "\n",
    "\n",
    "def plot_loss(title, epochs, loss_dict, axes_size, file):\n",
    "    with plt.style.context('cyberpunk'):\n",
    "        figure, axes = plt.subplots(*axes_size, layout='constrained', figsize=(6, 8))\n",
    "        x_axis = range(1, epochs + 1)\n",
    "        for ax, ((L1, L2), (loss_train, loss_val)) in zip(figure.axes, loss_dict.items()):\n",
    "            ax.plot(x_axis, loss_train, label='Train')\n",
    "            ax.plot(x_axis, loss_val, label='Test')\n",
    "            ax.set(title=f'L1 = {L1:.2f}\\nL2 = {L2:.2f}')\n",
    "            enhance_plot(figure, axes, glow=True, alpha_gradient=0.4)\n",
    "        figure.suptitle(title)\n",
    "        figure.savefig(f'./images/{file}.png')"
   ],
   "metadata": {
    "collapsed": false,
    "ExecuteTime": {
     "end_time": "2024-06-10T14:19:16.447311300Z",
     "start_time": "2024-06-10T14:19:16.341828Z"
    }
   },
   "id": "7572799c8b8c095b",
   "execution_count": 14
  },
  {
   "cell_type": "markdown",
   "source": [
    "# VGG with L1, L2 and no regularization"
   ],
   "metadata": {
    "collapsed": false
   },
   "id": "543cb441453a11a4"
  },
  {
   "cell_type": "code",
   "outputs": [
    {
     "name": "stdout",
     "output_type": "stream",
     "text": [
      "Files already downloaded and verified\n",
      "Files already downloaded and verified\n",
      "0\n"
     ]
    },
    {
     "name": "stderr",
     "output_type": "stream",
     "text": [
      "  0%|          | 0/10 [00:00<?, ?it/s]\n"
     ]
    },
    {
     "ename": "TypeError",
     "evalue": "only integer tensors of a single element can be converted to an index",
     "output_type": "error",
     "traceback": [
      "\u001B[1;31m---------------------------------------------------------------------------\u001B[0m",
      "\u001B[1;31mTypeError\u001B[0m                                 Traceback (most recent call last)",
      "Cell \u001B[1;32mIn[17], line 23\u001B[0m\n\u001B[0;32m     21\u001B[0m val_loss \u001B[38;5;241m=\u001B[39m []\n\u001B[0;32m     22\u001B[0m \u001B[38;5;28;01mfor\u001B[39;00m epoch \u001B[38;5;129;01min\u001B[39;00m tqdm(\u001B[38;5;28mrange\u001B[39m(PARAMS\u001B[38;5;241m.\u001B[39mepochs)):\n\u001B[1;32m---> 23\u001B[0m     train_metrics \u001B[38;5;241m=\u001B[39m \u001B[43mtrain_step_with_reg\u001B[49m\u001B[43m(\u001B[49m\n\u001B[0;32m     24\u001B[0m \u001B[43m        \u001B[49m\u001B[43mmodel\u001B[49m\u001B[43m,\u001B[49m\u001B[43m \u001B[49m\u001B[43mtrain_dataloader\u001B[49m\u001B[43m,\u001B[49m\u001B[43m \u001B[49m\u001B[43mloss_fn\u001B[49m\u001B[43m,\u001B[49m\u001B[43m \u001B[49m\u001B[43maccuracy\u001B[49m\u001B[43m,\u001B[49m\u001B[43m \u001B[49m\u001B[43moptimizer\u001B[49m\u001B[43m,\u001B[49m\u001B[43m \u001B[49m\u001B[43mPARAMS\u001B[49m\u001B[38;5;241;43m.\u001B[39;49m\u001B[43mdevice\u001B[49m\u001B[43m,\u001B[49m\n\u001B[0;32m     25\u001B[0m \u001B[43m        \u001B[49m\u001B[43mL1_lambda\u001B[49m\u001B[38;5;241;43m=\u001B[39;49m\u001B[43mL1\u001B[49m\u001B[43m,\u001B[49m\u001B[43m \u001B[49m\u001B[43mL2_lambda\u001B[49m\u001B[38;5;241;43m=\u001B[39;49m\u001B[43mL2\u001B[49m\n\u001B[0;32m     26\u001B[0m \u001B[43m    \u001B[49m\u001B[43m)\u001B[49m\n\u001B[0;32m     27\u001B[0m     test_metrics \u001B[38;5;241m=\u001B[39m test_step(\n\u001B[0;32m     28\u001B[0m         model, test_dataloader, loss_fn, accuracy, PARAMS\u001B[38;5;241m.\u001B[39mdevice)\n\u001B[0;32m     29\u001B[0m     train_loss\u001B[38;5;241m.\u001B[39mappend(train_metrics[\u001B[38;5;241m0\u001B[39m])\n",
      "Cell \u001B[1;32mIn[14], line 14\u001B[0m, in \u001B[0;36mtrain_step_with_reg\u001B[1;34m(model, dataloader, criterion, accuracy_function, optimizer, device, L1_lambda, L2_lambda)\u001B[0m\n\u001B[0;32m     12\u001B[0m accuracy \u001B[38;5;241m+\u001B[39m\u001B[38;5;241m=\u001B[39m accuracy_function(y_pred\u001B[38;5;241m.\u001B[39margmax(dim\u001B[38;5;241m=\u001B[39m\u001B[38;5;241m1\u001B[39m), y)\n\u001B[0;32m     13\u001B[0m optimizer\u001B[38;5;241m.\u001B[39mzero_grad()\n\u001B[1;32m---> 14\u001B[0m loss_regularized \u001B[38;5;241m=\u001B[39m loss \u001B[38;5;241m+\u001B[39m L1_norm\u001B[38;5;241m*\u001B[39mL1_lambda \u001B[38;5;241m+\u001B[39m \u001B[43mL2_norm\u001B[49m\u001B[38;5;241;43m*\u001B[39;49m\u001B[43mL2_lambda\u001B[49m\n\u001B[0;32m     15\u001B[0m loss_regularized\u001B[38;5;241m.\u001B[39mbackward()\n\u001B[0;32m     16\u001B[0m optimizer\u001B[38;5;241m.\u001B[39mstep()\n",
      "\u001B[1;31mTypeError\u001B[0m: only integer tensors of a single element can be converted to an index"
     ]
    }
   ],
   "source": [
    "data_path = Path('./data')\n",
    "loss_dict = {}\n",
    "_, _, train_dataloader, test_dataloader = load_CIFAR10(\n",
    "    data_path, normalized_transform(), subset=(8000, 2000))\n",
    "\n",
    "PARAMS.epochs = 10\n",
    "L1_list = [0, 0.1, 0]\n",
    "L2_list = [0, 0, 0.1]\n",
    "model_names = ['vanilla', 'L1 regularization', 'L2 regularization']\n",
    "\n",
    "for model_name, L1, L2 in zip(L1_list, L2_list, model_names):\n",
    "    print(model_name)\n",
    "    model = VGG11()\n",
    "    model.to(PARAMS.device)\n",
    "    loss_fn = nn.CrossEntropyLoss()\n",
    "    optimizer = torch.optim.SGD(model.parameters(), \n",
    "                                lr=PARAMS.learning_rate,\n",
    "                                momentum=PARAMS.momentum)\n",
    "    train_time_start = timer()\n",
    "    train_loss = []\n",
    "    val_loss = []\n",
    "    for epoch in tqdm(range(PARAMS.epochs)):\n",
    "        train_metrics = train_step_with_reg(\n",
    "            model, train_dataloader, loss_fn, accuracy, optimizer, PARAMS.device,\n",
    "            L1_lambda=L1, L2_lambda=L2\n",
    "        )\n",
    "        test_metrics = test_step(\n",
    "            model, test_dataloader, loss_fn, accuracy, PARAMS.device)\n",
    "        train_loss.append(train_metrics[0])\n",
    "        val_loss.append(test_metrics[0])\n",
    "    loss_dict[model_name] = (train_loss, val_loss)\n",
    "    train_time = timer() - train_time_start\n",
    "    print(f'Time: {train_time:.3f} seconds')"
   ],
   "metadata": {
    "collapsed": false,
    "ExecuteTime": {
     "end_time": "2024-06-10T14:21:03.800862500Z",
     "start_time": "2024-06-10T14:20:59.472573200Z"
    }
   },
   "id": "b7086a0974d7f307",
   "execution_count": 17
  },
  {
   "cell_type": "code",
   "outputs": [],
   "source": [
    "title = 'Comparison between vanilla, L1 and L2 VGG11'\n",
    "with plt.style.context('cyberpunk'):\n",
    "    figure, axes = plt.subplot_mosaic([['vanilla', 'vanilla'], \n",
    "                                       ['L1', 'L2']],\n",
    "                                      layout='constrained',\n",
    "                                      figsize=(6, 8))\n",
    "    x_axis = range(1, PARAMS.epochs + 1)\n",
    "    for ax, (model_type, (train, val)) in zip(figure.axes, loss_dict.items()):\n",
    "        ax.plot(x_axis, train, label='Train')\n",
    "        ax.plot(x_axis, val, label='Validation')\n",
    "        ax.set(xlabel='Epochs', ylabel='Loss', title=model_type)\n",
    "    figure.suptitle(title)"
   ],
   "metadata": {
    "collapsed": false,
    "ExecuteTime": {
     "start_time": "2024-06-10T14:19:17.420742200Z"
    }
   },
   "id": "e098be89c966ce56"
  }
 ],
 "metadata": {
  "kernelspec": {
   "display_name": "Python 3",
   "language": "python",
   "name": "python3"
  },
  "language_info": {
   "codemirror_mode": {
    "name": "ipython",
    "version": 2
   },
   "file_extension": ".py",
   "mimetype": "text/x-python",
   "name": "python",
   "nbconvert_exporter": "python",
   "pygments_lexer": "ipython2",
   "version": "2.7.6"
  }
 },
 "nbformat": 4,
 "nbformat_minor": 5
}
