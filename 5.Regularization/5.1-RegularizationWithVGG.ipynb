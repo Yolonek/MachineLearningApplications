{
 "cells": [
  {
   "cell_type": "code",
   "execution_count": 1,
   "id": "initial_id",
   "metadata": {
    "collapsed": true,
    "ExecuteTime": {
     "end_time": "2024-06-10T12:00:26.268697400Z",
     "start_time": "2024-06-10T12:00:26.250198700Z"
    }
   },
   "outputs": [],
   "source": [
    "import sys\n",
    "sys.path.append('..')"
   ]
  },
  {
   "cell_type": "code",
   "outputs": [],
   "source": [
    "import os\n",
    "import torch\n",
    "import torch.nn as nn\n",
    "import numpy as np\n",
    "from pathlib import Path\n",
    "from tqdm import tqdm\n",
    "from dataclasses import dataclass\n",
    "from matplotlib import pyplot as plt\n",
    "from timeit import default_timer as timer\n",
    "from torch.utils.data import DataLoader, Subset\n",
    "from torchvision import datasets, transforms, models\n",
    "from typing import List, Dict\n",
    "from CommonFunctions import enhance_plot\n",
    "from Models import SimpleCNN, ModularVGG\n",
    "from Utils import *\n",
    "%matplotlib inline"
   ],
   "metadata": {
    "collapsed": false,
    "ExecuteTime": {
     "end_time": "2024-06-10T12:02:14.675196Z",
     "start_time": "2024-06-10T12:02:06.885198200Z"
    }
   },
   "id": "9cda449b9da2b66d",
   "execution_count": 2
  },
  {
   "cell_type": "code",
   "outputs": [
    {
     "data": {
      "text/plain": "LearningParameters(batch_size=128, cpu_count=12, learning_rate=0.05, momentum=0.9, weight_decay=0.001, epochs=150, device=device(type='cuda'), dropout=0.3, batch_norm=True)"
     },
     "execution_count": 3,
     "metadata": {},
     "output_type": "execute_result"
    }
   ],
   "source": [
    "PARAMS = LearningParameters()\n",
    "KERNEL_PARAMS = dict(kernel_size=3, stride=1, padding=1)\n",
    "\n",
    "def VGG13():\n",
    "    model_config = dict(\n",
    "        CONV=dict(\n",
    "            conv_layers=[[64],\n",
    "                         [128],\n",
    "                         [256, 256],\n",
    "                         [512, 512],\n",
    "                         [512, 512]],\n",
    "            kernel_params=KERNEL_PARAMS,\n",
    "            batch_norm=PARAMS.batch_norm\n",
    "        ),\n",
    "        FC=dict(\n",
    "            layer_sizes=[4096, 4096, 1000],\n",
    "            dropout=PARAMS.dropout\n",
    "        )\n",
    "    )\n",
    "    return ModularVGG(input_layer_size=3,\n",
    "                      num_of_classes=10,\n",
    "                      image_size=32,\n",
    "                      config=model_config)\n",
    "PARAMS"
   ],
   "metadata": {
    "collapsed": false,
    "ExecuteTime": {
     "end_time": "2024-06-10T12:08:37.806858700Z",
     "start_time": "2024-06-10T12:08:37.800860300Z"
    }
   },
   "id": "d35c6ac46c28f2ca",
   "execution_count": 3
  },
  {
   "cell_type": "code",
   "outputs": [],
   "source": [
    "def train_step_with_reg(model, dataloader, criterion, accuracy_function, optimizer, device,\n",
    "                        L1_lambda=0, L2_lambda=0):\n",
    "    train_loss, accuracy = 0, 0\n",
    "    model.train()\n",
    "    for batch, (X, y) in enumerate(dataloader):\n",
    "        X, y = X.to(device), y.to(device)\n",
    "        y_pred = model(X)\n",
    "        loss = criterion(y_pred, y)\n",
    "        L1_norm = sum(p.abs().sum() for p in model.parameters())\n",
    "        L2_norm = sum((p**2).sum() for p in model.parameters())\n",
    "        train_loss += loss.item()\n",
    "        accuracy += accuracy_function(y_pred.argmax(dim=1), y)\n",
    "        optimizer.zero_grad()\n",
    "        loss_regularized = loss + L1_norm*L1_lambda + L2_norm*L2_lambda\n",
    "        loss_regularized.backward()\n",
    "        optimizer.step()\n",
    "    train_loss /= (data_len := len(dataloader))\n",
    "    accuracy /= data_len\n",
    "    return train_loss, accuracy\n",
    "\n",
    "\n",
    "def plot_loss(title, epochs, loss_dict, axes_size, file):\n",
    "    with plt.style.context('cyberpunk'):\n",
    "        figure, axes = plt.subplots(*axes_size, layout='constrained', figsize=(6, 8))\n",
    "        x_axis = range(1, epochs + 1)\n",
    "        for ax, ((L1, L2), (loss_train, loss_val)) in zip(figure.axes, loss_dict.items()):\n",
    "            ax.plot(x_axis, loss_train, label='Train')\n",
    "            ax.plot(x_axis, loss_val, label='Test')\n",
    "            ax.set(title=f'L1 = {L1:.2f}\\nL2 = {L2:.2f}')\n",
    "            enhance_plot(figure, axes, glow=True, alpha_gradient=0.4)\n",
    "        figure.suptitle(title)"
   ],
   "metadata": {
    "collapsed": false
   },
   "id": "7572799c8b8c095b"
  },
  {
   "cell_type": "code",
   "outputs": [],
   "source": [
    "data_path = Path('./data')\n",
    "loss_dict = {}\n",
    "acc_dict = {}\n",
    "_, _, train_dataloader, test_dataloader = load_CIFAR10(\n",
    "    data_path, normalized_transform(), (8000, 2000))\n",
    "\n",
    "for model_name, model in cnn_models.items():\n",
    "    print(model_name)\n",
    "    model.to(PARAMS.device)\n",
    "    loss_fn = nn.CrossEntropyLoss()\n",
    "    optimizer = torch.optim.SGD(model.parameters(), \n",
    "                                lr=PARAMS.learning_rate,\n",
    "                                momentum=PARAMS.momentum)\n",
    "    train_time_start = timer()\n",
    "    train_loss = []\n",
    "    test_acc = []\n",
    "    for epoch in tqdm(range(PARAMS.epochs)):\n",
    "        train_metrics = train_step(\n",
    "            model, train_dataloader, loss_fn, accuracy, optimizer, PARAMS.device)\n",
    "        test_metrics = test_step(\n",
    "            model, test_dataloader, loss_fn, accuracy, PARAMS.device)\n",
    "        train_loss.append(train_metrics[0])\n",
    "        test_acc.append(test_metrics[1])\n",
    "    loss_dict[model_name] = train_loss\n",
    "    acc_dict[model_name] = test_acc\n",
    "    train_time = timer() - train_time_start\n",
    "    print(f'Time: {train_time:.3f} seconds')"
   ],
   "metadata": {
    "collapsed": false
   },
   "id": "3fe607c1512b0d28"
  }
 ],
 "metadata": {
  "kernelspec": {
   "display_name": "Python 3",
   "language": "python",
   "name": "python3"
  },
  "language_info": {
   "codemirror_mode": {
    "name": "ipython",
    "version": 2
   },
   "file_extension": ".py",
   "mimetype": "text/x-python",
   "name": "python",
   "nbconvert_exporter": "python",
   "pygments_lexer": "ipython2",
   "version": "2.7.6"
  }
 },
 "nbformat": 4,
 "nbformat_minor": 5
}
