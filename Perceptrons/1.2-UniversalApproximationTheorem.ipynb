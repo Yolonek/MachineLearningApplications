{
 "cells": [
  {
   "cell_type": "code",
   "execution_count": 1,
   "id": "initial_id",
   "metadata": {
    "collapsed": true,
    "ExecuteTime": {
     "end_time": "2024-04-09T19:02:11.728975800Z",
     "start_time": "2024-04-09T19:02:06.826413600Z"
    }
   },
   "outputs": [],
   "source": [
    "import torch\n",
    "from tqdm import tqdm\n",
    "from torch import nn"
   ]
  },
  {
   "cell_type": "markdown",
   "source": [
    "# Universal Neural Network class\n",
    "\n",
    "We can specify arbitrary number of layers and their sizes"
   ],
   "metadata": {
    "collapsed": false
   },
   "id": "139fb25cc09dbca"
  },
  {
   "cell_type": "code",
   "outputs": [],
   "source": [
    "class ModularNeuralNetwork(nn.Module):\n",
    "    def __init__(self, \n",
    "                 input_size: int, \n",
    "                 output_size: int, \n",
    "                 layer_sizes: tuple[int] = (), \n",
    "                 activation_function: nn.modules.activation = nn.Tanh()):\n",
    "        super(ModularNeuralNetwork, self).__init__()\n",
    "        if len(layer_sizes) == 0:\n",
    "            self.layers = nn.Sequential(\n",
    "                nn.Linear(in_features=input_size, out_features=output_size),\n",
    "                activation_function\n",
    "            )\n",
    "        elif len(layer_sizes) == 1:\n",
    "            size = layer_sizes[0]\n",
    "            self.layers = nn.Sequential(\n",
    "                nn.Linear(in_features=input_size, out_features=size),\n",
    "                activation_function,\n",
    "                nn.Linear(in_features=size, out_features=output_size),\n",
    "                activation_function\n",
    "            )\n",
    "        else:\n",
    "            layers = []\n",
    "            for index, layer_size in enumerate(layer_sizes):\n",
    "                if index == 0:\n",
    "                    layer = nn.Linear(in_features=input_size, out_features=layer_size)\n",
    "                else:\n",
    "                    layer = nn.Linear(in_features=layer_sizes[index - 1], \n",
    "                                      out_features=layer_size)\n",
    "                layers += [layer, activation_function]\n",
    "            layers += [nn.Linear(in_features=layer_sizes[-1], \n",
    "                                 out_features=output_size), \n",
    "                       activation_function]\n",
    "            self.layers = nn.Sequential(*layers)\n",
    "    \n",
    "    def forward(self, x: torch.Tensor) -> torch.Tensor:\n",
    "        return self.layers(x)"
   ],
   "metadata": {
    "collapsed": false,
    "ExecuteTime": {
     "end_time": "2024-04-09T19:07:19.218405600Z",
     "start_time": "2024-04-09T19:07:19.199403800Z"
    }
   },
   "id": "750ba8ab3a60a160",
   "execution_count": 3
  },
  {
   "cell_type": "markdown",
   "source": [
    "# Adding Binary Numbers"
   ],
   "metadata": {
    "collapsed": false
   },
   "id": "c34c60a870e1022"
  },
  {
   "cell_type": "code",
   "outputs": [],
   "source": [
    "X = torch.tensor([[0, 0], [0, 1], [1, 0], [1, 1]], dtype=torch.float32)\n",
    "y = torch.tensor([[0, 0], [0, 1], [0, 1], [1, 0]], dtype=torch.float32)"
   ],
   "metadata": {
    "collapsed": false,
    "ExecuteTime": {
     "end_time": "2024-04-09T19:06:34.979290100Z",
     "start_time": "2024-04-09T19:06:34.964225700Z"
    }
   },
   "id": "852b4792d84cb0be",
   "execution_count": 2
  },
  {
   "cell_type": "code",
   "outputs": [
    {
     "data": {
      "text/plain": "ModularNeuralNetwork(\n  (layers): Sequential(\n    (0): Linear(in_features=2, out_features=2, bias=True)\n    (1): Sigmoid()\n  )\n)"
     },
     "execution_count": 4,
     "metadata": {},
     "output_type": "execute_result"
    }
   ],
   "source": [
    "input_size, output_size = 2, 2\n",
    "hidden_layers = []\n",
    "learning_rate = 0.2\n",
    "model = ModularNeuralNetwork(input_size=input_size,\n",
    "                             output_size=output_size,\n",
    "                             layer_sizes=hidden_layers,\n",
    "                             activation_function=nn.Sigmoid())\n",
    "optimizer = torch.optim.SGD(model.parameters(), lr=learning_rate)\n",
    "loss_fn = nn.MSELoss()\n",
    "model"
   ],
   "metadata": {
    "collapsed": false,
    "ExecuteTime": {
     "end_time": "2024-04-09T19:07:34.041577Z",
     "start_time": "2024-04-09T19:07:33.614803100Z"
    }
   },
   "id": "c3e71f19cc15f7b0",
   "execution_count": 4
  },
  {
   "cell_type": "code",
   "outputs": [],
   "source": [
    "def train(epochs):\n",
    "    model.train()\n",
    "    loss = 0\n",
    "    for _ in tqdm(range(epochs)):\n",
    "        y_pred = model(X)\n",
    "        loss = loss_fn(y_pred, y)\n",
    "        optimizer.zero_grad()\n",
    "        loss.backward()\n",
    "        optimizer.step()\n",
    "    print(f'Last loss value: {loss}')\n",
    "    model.eval()\n",
    "    with torch.inference_mode():\n",
    "        for i, x in enumerate(X):\n",
    "            y_ = model(x)\n",
    "            print(f'{x[0].item()} + {x[1].item()} = {y_[0].item():.4f} {y_[1].item():.4f}')"
   ],
   "metadata": {
    "collapsed": false,
    "ExecuteTime": {
     "end_time": "2024-04-09T19:07:57.322155700Z",
     "start_time": "2024-04-09T19:07:57.303657100Z"
    }
   },
   "id": "4f7678b95feb0eb6",
   "execution_count": 5
  },
  {
   "cell_type": "code",
   "outputs": [
    {
     "name": "stderr",
     "output_type": "stream",
     "text": [
      "100%|██████████| 10000/10000 [00:03<00:00, 2925.26it/s]"
     ]
    },
    {
     "name": "stdout",
     "output_type": "stream",
     "text": [
      "Last loss value: 0.12787023186683655\n",
      "0.0 + 0.0 = 0.0009 0.5000\n",
      "0.0 + 1.0 = 0.0819 0.5000\n",
      "1.0 + 0.0 = 0.0819 0.5000\n",
      "1.0 + 1.0 = 0.9022 0.5000\n"
     ]
    },
    {
     "name": "stderr",
     "output_type": "stream",
     "text": [
      "\n"
     ]
    }
   ],
   "source": [
    "N_epochs = 10000\n",
    "train(N_epochs)"
   ],
   "metadata": {
    "collapsed": false,
    "ExecuteTime": {
     "end_time": "2024-04-09T19:08:06.393625700Z",
     "start_time": "2024-04-09T19:08:02.951626Z"
    }
   },
   "id": "9c971445a419fd7f",
   "execution_count": 6
  },
  {
   "cell_type": "markdown",
   "source": [
    "First bit is predicted correctly, but second is random. We need more layers and neurons."
   ],
   "metadata": {
    "collapsed": false
   },
   "id": "ae1f701763347d45"
  },
  {
   "cell_type": "code",
   "outputs": [
    {
     "data": {
      "text/plain": "ModularNeuralNetwork(\n  (layers): Sequential(\n    (0): Linear(in_features=2, out_features=2, bias=True)\n    (1): Sigmoid()\n    (2): Linear(in_features=2, out_features=2, bias=True)\n    (3): Sigmoid()\n  )\n)"
     },
     "execution_count": 7,
     "metadata": {},
     "output_type": "execute_result"
    }
   ],
   "source": [
    "input_size, output_size = 2, 2\n",
    "hidden_layers = [2]\n",
    "learning_rate = 0.2\n",
    "model = ModularNeuralNetwork(input_size=input_size,\n",
    "                             output_size=output_size,\n",
    "                             layer_sizes=hidden_layers,\n",
    "                             activation_function=nn.Sigmoid())\n",
    "optimizer = torch.optim.SGD(model.parameters(), lr=learning_rate)\n",
    "loss_fn = nn.MSELoss()\n",
    "model"
   ],
   "metadata": {
    "collapsed": false,
    "ExecuteTime": {
     "end_time": "2024-04-09T19:09:27.377970900Z",
     "start_time": "2024-04-09T19:09:27.346892500Z"
    }
   },
   "id": "42159195de3f42d3",
   "execution_count": 7
  },
  {
   "cell_type": "code",
   "outputs": [
    {
     "name": "stderr",
     "output_type": "stream",
     "text": [
      "100%|██████████| 50000/50000 [00:20<00:00, 2408.25it/s]"
     ]
    },
    {
     "name": "stdout",
     "output_type": "stream",
     "text": [
      "Last loss value: 0.0007525425171479583\n",
      "0.0 + 0.0 = 0.0003 0.0378\n",
      "0.0 + 1.0 = 0.0149 0.9674\n",
      "1.0 + 0.0 = 0.0149 0.9674\n",
      "1.0 + 1.0 = 0.9768 0.0385\n"
     ]
    },
    {
     "name": "stderr",
     "output_type": "stream",
     "text": [
      "\n"
     ]
    }
   ],
   "source": [
    "N_epochs = 50000\n",
    "train(N_epochs)"
   ],
   "metadata": {
    "collapsed": false,
    "ExecuteTime": {
     "end_time": "2024-04-09T19:10:01.256965400Z",
     "start_time": "2024-04-09T19:09:40.474968500Z"
    }
   },
   "id": "2c1b4a8e90e287e",
   "execution_count": 8
  },
  {
   "cell_type": "markdown",
   "source": [
    "Probabilities are already correct, but let's more neurons"
   ],
   "metadata": {
    "collapsed": false
   },
   "id": "254f05d9f5c7fc21"
  },
  {
   "cell_type": "code",
   "outputs": [
    {
     "data": {
      "text/plain": "ModularNeuralNetwork(\n  (layers): Sequential(\n    (0): Linear(in_features=2, out_features=20, bias=True)\n    (1): Sigmoid()\n    (2): Linear(in_features=20, out_features=2, bias=True)\n    (3): Sigmoid()\n  )\n)"
     },
     "execution_count": 9,
     "metadata": {},
     "output_type": "execute_result"
    }
   ],
   "source": [
    "input_size, output_size = 2, 2\n",
    "hidden_layers = [20]\n",
    "learning_rate = 0.2\n",
    "model = ModularNeuralNetwork(input_size=input_size,\n",
    "                             output_size=output_size,\n",
    "                             layer_sizes=hidden_layers,\n",
    "                             activation_function=nn.Sigmoid())\n",
    "optimizer = torch.optim.SGD(model.parameters(), lr=learning_rate)\n",
    "loss_fn = nn.MSELoss()\n",
    "model"
   ],
   "metadata": {
    "collapsed": false,
    "ExecuteTime": {
     "end_time": "2024-04-09T19:14:18.114863500Z",
     "start_time": "2024-04-09T19:14:18.096362500Z"
    }
   },
   "id": "d2676065baf88239",
   "execution_count": 9
  },
  {
   "cell_type": "code",
   "outputs": [
    {
     "name": "stderr",
     "output_type": "stream",
     "text": [
      "100%|██████████| 50000/50000 [00:24<00:00, 2067.06it/s]"
     ]
    },
    {
     "name": "stdout",
     "output_type": "stream",
     "text": [
      "Last loss value: 0.0002571965451352298\n",
      "0.0 + 0.0 = 0.0000 0.0196\n",
      "0.0 + 1.0 = 0.0090 0.9795\n",
      "1.0 + 0.0 = 0.0101 0.9796\n",
      "1.0 + 1.0 = 0.9866 0.0216\n"
     ]
    },
    {
     "name": "stderr",
     "output_type": "stream",
     "text": [
      "\n"
     ]
    }
   ],
   "source": [
    "N_epochs = 50000\n",
    "train(N_epochs)"
   ],
   "metadata": {
    "collapsed": false,
    "ExecuteTime": {
     "end_time": "2024-04-09T19:14:47.584034500Z",
     "start_time": "2024-04-09T19:14:23.379532800Z"
    }
   },
   "id": "207d0bb2228abeb6",
   "execution_count": 10
  },
  {
   "cell_type": "markdown",
   "source": [
    "We can see a small improvement. Let's add more layers."
   ],
   "metadata": {
    "collapsed": false
   },
   "id": "4ce380824459bd2e"
  },
  {
   "cell_type": "code",
   "outputs": [
    {
     "data": {
      "text/plain": "ModularNeuralNetwork(\n  (layers): Sequential(\n    (0): Linear(in_features=2, out_features=5, bias=True)\n    (1): Sigmoid()\n    (2): Linear(in_features=5, out_features=5, bias=True)\n    (3): Sigmoid()\n    (4): Linear(in_features=5, out_features=2, bias=True)\n    (5): Sigmoid()\n  )\n)"
     },
     "execution_count": 12,
     "metadata": {},
     "output_type": "execute_result"
    }
   ],
   "source": [
    "input_size, output_size = 2, 2\n",
    "hidden_layers = [5, 5]\n",
    "learning_rate = 0.2\n",
    "model = ModularNeuralNetwork(input_size=input_size,\n",
    "                             output_size=output_size,\n",
    "                             layer_sizes=hidden_layers,\n",
    "                             activation_function=nn.Sigmoid())\n",
    "optimizer = torch.optim.SGD(model.parameters(), lr=learning_rate)\n",
    "loss_fn = nn.MSELoss()\n",
    "model"
   ],
   "metadata": {
    "collapsed": false,
    "ExecuteTime": {
     "end_time": "2024-04-09T19:15:59.633550600Z",
     "start_time": "2024-04-09T19:15:59.620551800Z"
    }
   },
   "id": "bc0a04596a99f489",
   "execution_count": 12
  },
  {
   "cell_type": "code",
   "outputs": [
    {
     "name": "stderr",
     "output_type": "stream",
     "text": [
      "100%|██████████| 50000/50000 [00:25<00:00, 1989.38it/s]"
     ]
    },
    {
     "name": "stdout",
     "output_type": "stream",
     "text": [
      "Last loss value: 0.00025495467707514763\n",
      "0.0 + 0.0 = 0.0009 0.0203\n",
      "0.0 + 1.0 = 0.0108 0.9812\n",
      "1.0 + 0.0 = 0.0109 0.9808\n",
      "1.0 + 1.0 = 0.9848 0.0209\n"
     ]
    },
    {
     "name": "stderr",
     "output_type": "stream",
     "text": [
      "\n"
     ]
    }
   ],
   "source": [
    "N_epochs = 50000\n",
    "train(N_epochs)"
   ],
   "metadata": {
    "collapsed": false,
    "ExecuteTime": {
     "end_time": "2024-04-09T19:16:27.705674100Z",
     "start_time": "2024-04-09T19:16:02.556174400Z"
    }
   },
   "id": "357baefc376eae02",
   "execution_count": 13
  },
  {
   "cell_type": "code",
   "outputs": [
    {
     "data": {
      "text/plain": "ModularNeuralNetwork(\n  (layers): Sequential(\n    (0): Linear(in_features=2, out_features=20, bias=True)\n    (1): Sigmoid()\n    (2): Linear(in_features=20, out_features=20, bias=True)\n    (3): Sigmoid()\n    (4): Linear(in_features=20, out_features=20, bias=True)\n    (5): Sigmoid()\n    (6): Linear(in_features=20, out_features=20, bias=True)\n    (7): Sigmoid()\n    (8): Linear(in_features=20, out_features=2, bias=True)\n    (9): Sigmoid()\n  )\n)"
     },
     "execution_count": 14,
     "metadata": {},
     "output_type": "execute_result"
    }
   ],
   "source": [
    "input_size, output_size = 2, 2\n",
    "hidden_layers = [20, 20, 20, 20]\n",
    "learning_rate = 0.2\n",
    "model = ModularNeuralNetwork(input_size=input_size,\n",
    "                             output_size=output_size,\n",
    "                             layer_sizes=hidden_layers,\n",
    "                             activation_function=nn.Sigmoid())\n",
    "optimizer = torch.optim.SGD(model.parameters(), lr=learning_rate)\n",
    "loss_fn = nn.MSELoss()\n",
    "model"
   ],
   "metadata": {
    "collapsed": false,
    "ExecuteTime": {
     "end_time": "2024-04-09T19:29:02.207883600Z",
     "start_time": "2024-04-09T19:29:02.192880400Z"
    }
   },
   "id": "2566ca9ba534c989",
   "execution_count": 14
  },
  {
   "cell_type": "code",
   "outputs": [
    {
     "name": "stderr",
     "output_type": "stream",
     "text": [
      "100%|██████████| 50000/50000 [00:39<00:00, 1256.88it/s]"
     ]
    },
    {
     "name": "stdout",
     "output_type": "stream",
     "text": [
      "Last loss value: 0.00017881262465380132\n",
      "0.0 + 0.0 = 0.0000 0.0175\n",
      "0.0 + 1.0 = 0.0075 0.9829\n",
      "1.0 + 0.0 = 0.0075 0.9827\n",
      "1.0 + 1.0 = 0.9910 0.0184\n"
     ]
    },
    {
     "name": "stderr",
     "output_type": "stream",
     "text": [
      "\n"
     ]
    }
   ],
   "source": [
    "N_epochs = 50000\n",
    "train(N_epochs)"
   ],
   "metadata": {
    "collapsed": false,
    "ExecuteTime": {
     "end_time": "2024-04-09T19:29:48.775982Z",
     "start_time": "2024-04-09T19:29:08.982984500Z"
    }
   },
   "id": "c6692816ec756c5c",
   "execution_count": 15
  },
  {
   "cell_type": "markdown",
   "source": [
    "# Multiplication"
   ],
   "metadata": {
    "collapsed": false
   },
   "id": "140ad28c07c5c924"
  },
  {
   "cell_type": "code",
   "outputs": [],
   "source": [
    "X = torch.tensor([0, 1], dtype=torch.float32).view(-1, 1)\n",
    "y = torch.tensor([[0, 0], [1, 0]], dtype=torch.float32)"
   ],
   "metadata": {
    "collapsed": false,
    "ExecuteTime": {
     "end_time": "2024-04-09T19:34:53.542719200Z",
     "start_time": "2024-04-09T19:34:53.525218Z"
    }
   },
   "id": "deb9a1e9a93a3286",
   "execution_count": 16
  },
  {
   "cell_type": "code",
   "outputs": [
    {
     "data": {
      "text/plain": "ModularNeuralNetwork(\n  (layers): Sequential(\n    (0): Linear(in_features=1, out_features=2, bias=True)\n    (1): Sigmoid()\n  )\n)"
     },
     "execution_count": 17,
     "metadata": {},
     "output_type": "execute_result"
    }
   ],
   "source": [
    "input_size, output_size = 1, 2\n",
    "hidden_layers = []\n",
    "learning_rate = 0.2\n",
    "model = ModularNeuralNetwork(input_size=input_size,\n",
    "                             output_size=output_size,\n",
    "                             layer_sizes=hidden_layers,\n",
    "                             activation_function=nn.Sigmoid())\n",
    "optimizer = torch.optim.SGD(model.parameters(), lr=learning_rate)\n",
    "loss_fn = nn.MSELoss()\n",
    "model"
   ],
   "metadata": {
    "collapsed": false,
    "ExecuteTime": {
     "end_time": "2024-04-09T19:34:58.720384Z",
     "start_time": "2024-04-09T19:34:58.694888500Z"
    }
   },
   "id": "a8dc63c2b537812c",
   "execution_count": 17
  },
  {
   "cell_type": "code",
   "outputs": [],
   "source": [
    "def train(epochs):\n",
    "    model.train()\n",
    "    loss = 0\n",
    "    for _ in tqdm(range(epochs)):\n",
    "        y_pred = model(X)\n",
    "        loss = loss_fn(y_pred, y)\n",
    "        optimizer.zero_grad()\n",
    "        loss.backward()\n",
    "        optimizer.step()\n",
    "    print(f'Last loss value: {loss}')\n",
    "    model.eval()\n",
    "    with torch.inference_mode():\n",
    "        for i, x in enumerate(X):\n",
    "            y_ = model(x)\n",
    "            print(f'{x.item()} * 2 = {y_[0].item():.4f} {y_[1].item():.4f}')"
   ],
   "metadata": {
    "collapsed": false,
    "ExecuteTime": {
     "end_time": "2024-04-09T19:35:07.124768Z",
     "start_time": "2024-04-09T19:35:07.113268100Z"
    }
   },
   "id": "2c77f159fc7a0882",
   "execution_count": 18
  },
  {
   "cell_type": "code",
   "outputs": [
    {
     "name": "stderr",
     "output_type": "stream",
     "text": [
      "100%|██████████| 10000/10000 [00:03<00:00, 3002.55it/s]"
     ]
    },
    {
     "name": "stdout",
     "output_type": "stream",
     "text": [
      "Last loss value: 0.0008660536841489375\n",
      "0.0 * 2 = 0.0419 0.0226\n",
      "1.0 * 2 = 0.9659 0.0056\n"
     ]
    },
    {
     "name": "stderr",
     "output_type": "stream",
     "text": [
      "\n"
     ]
    }
   ],
   "source": [
    "N_epochs = 10000\n",
    "train(N_epochs)"
   ],
   "metadata": {
    "collapsed": false,
    "ExecuteTime": {
     "end_time": "2024-04-09T19:35:15.515807600Z",
     "start_time": "2024-04-09T19:35:12.177804800Z"
    }
   },
   "id": "baf6d2acc708ea80",
   "execution_count": 19
  },
  {
   "cell_type": "code",
   "outputs": [],
   "source": [],
   "metadata": {
    "collapsed": false
   },
   "id": "f5f321da17fdf32c"
  }
 ],
 "metadata": {
  "kernelspec": {
   "display_name": "Python 3",
   "language": "python",
   "name": "python3"
  },
  "language_info": {
   "codemirror_mode": {
    "name": "ipython",
    "version": 2
   },
   "file_extension": ".py",
   "mimetype": "text/x-python",
   "name": "python",
   "nbconvert_exporter": "python",
   "pygments_lexer": "ipython2",
   "version": "2.7.6"
  }
 },
 "nbformat": 4,
 "nbformat_minor": 5
}
