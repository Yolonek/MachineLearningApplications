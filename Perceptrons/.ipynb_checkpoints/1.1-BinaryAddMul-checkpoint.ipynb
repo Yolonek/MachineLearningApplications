{
 "cells": [
  {
   "cell_type": "code",
   "execution_count": 1,
   "id": "initial_id",
   "metadata": {
    "collapsed": true,
    "ExecuteTime": {
     "end_time": "2024-04-09T19:37:27.070434900Z",
     "start_time": "2024-04-09T19:37:25.126935600Z"
    }
   },
   "outputs": [],
   "source": [
    "import torch\n",
    "from tqdm import tqdm\n",
    "from torch import nn"
   ]
  },
  {
   "cell_type": "markdown",
   "source": [
    "# Universal Neural Network class\n",
    "\n",
    "We can specify arbitrary number of layers and their sizes"
   ],
   "metadata": {
    "collapsed": false
   },
   "id": "139fb25cc09dbca"
  },
  {
   "cell_type": "code",
   "outputs": [],
   "source": [
    "class ModularNeuralNetwork(nn.Module):\n",
    "    def __init__(self, \n",
    "                 input_size: int, \n",
    "                 output_size: int, \n",
    "                 layer_sizes: tuple[int] = (), \n",
    "                 activation_function: nn.modules.activation = nn.Tanh()):\n",
    "        super(ModularNeuralNetwork, self).__init__()\n",
    "        if len(layer_sizes) == 0:\n",
    "            self.layers = nn.Sequential(\n",
    "                nn.Linear(in_features=input_size, out_features=output_size),\n",
    "                activation_function\n",
    "            )\n",
    "        elif len(layer_sizes) == 1:\n",
    "            size = layer_sizes[0]\n",
    "            self.layers = nn.Sequential(\n",
    "                nn.Linear(in_features=input_size, out_features=size),\n",
    "                activation_function,\n",
    "                nn.Linear(in_features=size, out_features=output_size),\n",
    "                activation_function\n",
    "            )\n",
    "        else:\n",
    "            layers = []\n",
    "            for index, layer_size in enumerate(layer_sizes):\n",
    "                if index == 0:\n",
    "                    layer = nn.Linear(in_features=input_size, out_features=layer_size)\n",
    "                else:\n",
    "                    layer = nn.Linear(in_features=layer_sizes[index - 1], \n",
    "                                      out_features=layer_size)\n",
    "                layers += [layer, activation_function]\n",
    "            layers += [nn.Linear(in_features=layer_sizes[-1], \n",
    "                                 out_features=output_size), \n",
    "                       activation_function]\n",
    "            self.layers = nn.Sequential(*layers)\n",
    "    \n",
    "    def forward(self, x: torch.Tensor) -> torch.Tensor:\n",
    "        return self.layers(x)"
   ],
   "metadata": {
    "collapsed": false,
    "ExecuteTime": {
     "end_time": "2024-04-09T19:37:27.085935400Z",
     "start_time": "2024-04-09T19:37:27.077435200Z"
    }
   },
   "id": "750ba8ab3a60a160",
   "execution_count": 2
  },
  {
   "cell_type": "markdown",
   "source": [
    "# Adding Binary Numbers"
   ],
   "metadata": {
    "collapsed": false
   },
   "id": "c34c60a870e1022"
  },
  {
   "cell_type": "code",
   "outputs": [],
   "source": [
    "X = torch.tensor([[0, 0], [0, 1], [1, 0], [1, 1]], dtype=torch.float32)\n",
    "y = torch.tensor([[0, 0], [0, 1], [0, 1], [1, 0]], dtype=torch.float32)"
   ],
   "metadata": {
    "collapsed": false,
    "ExecuteTime": {
     "end_time": "2024-04-09T19:37:27.107938700Z",
     "start_time": "2024-04-09T19:37:27.086436800Z"
    }
   },
   "id": "852b4792d84cb0be",
   "execution_count": 3
  },
  {
   "cell_type": "code",
   "outputs": [
    {
     "data": {
      "text/plain": "ModularNeuralNetwork(\n  (layers): Sequential(\n    (0): Linear(in_features=2, out_features=2, bias=True)\n    (1): Sigmoid()\n  )\n)"
     },
     "execution_count": 4,
     "metadata": {},
     "output_type": "execute_result"
    }
   ],
   "source": [
    "input_size, output_size = 2, 2\n",
    "hidden_layers = []\n",
    "learning_rate = 0.2\n",
    "model = ModularNeuralNetwork(input_size=input_size,\n",
    "                             output_size=output_size,\n",
    "                             layer_sizes=hidden_layers,\n",
    "                             activation_function=nn.Sigmoid())\n",
    "optimizer = torch.optim.SGD(model.parameters(), lr=learning_rate)\n",
    "loss_fn = nn.MSELoss()\n",
    "model"
   ],
   "metadata": {
    "collapsed": false,
    "ExecuteTime": {
     "end_time": "2024-04-09T19:37:27.395434800Z",
     "start_time": "2024-04-09T19:37:27.103438600Z"
    }
   },
   "id": "c3e71f19cc15f7b0",
   "execution_count": 4
  },
  {
   "cell_type": "code",
   "outputs": [],
   "source": [
    "def train(epochs):\n",
    "    model.train()\n",
    "    loss = 0\n",
    "    for _ in tqdm(range(epochs)):\n",
    "        y_pred = model(X)\n",
    "        loss = loss_fn(y_pred, y)\n",
    "        optimizer.zero_grad()\n",
    "        loss.backward()\n",
    "        optimizer.step()\n",
    "    print(f'Last loss value: {loss}')\n",
    "    model.eval()\n",
    "    with torch.inference_mode():\n",
    "        for i, x in enumerate(X):\n",
    "            y_ = model(x)\n",
    "            print(f'{x[0].item()} + {x[1].item()} = {y_[0].item():.4f} {y_[1].item():.4f}')"
   ],
   "metadata": {
    "collapsed": false,
    "ExecuteTime": {
     "end_time": "2024-04-09T19:37:27.422434900Z",
     "start_time": "2024-04-09T19:37:27.398937200Z"
    }
   },
   "id": "4f7678b95feb0eb6",
   "execution_count": 5
  },
  {
   "cell_type": "code",
   "outputs": [
    {
     "name": "stderr",
     "output_type": "stream",
     "text": [
      "100%|██████████| 10000/10000 [00:03<00:00, 2904.02it/s]"
     ]
    },
    {
     "name": "stdout",
     "output_type": "stream",
     "text": [
      "Last loss value: 0.127850741147995\n",
      "0.0 + 0.0 = 0.0009 0.5000\n",
      "0.0 + 1.0 = 0.0816 0.5000\n",
      "1.0 + 0.0 = 0.0816 0.5000\n",
      "1.0 + 1.0 = 0.9026 0.5000\n"
     ]
    },
    {
     "name": "stderr",
     "output_type": "stream",
     "text": [
      "\n"
     ]
    }
   ],
   "source": [
    "N_epochs = 10000\n",
    "train(N_epochs)"
   ],
   "metadata": {
    "collapsed": false,
    "ExecuteTime": {
     "end_time": "2024-04-09T19:37:30.868937600Z",
     "start_time": "2024-04-09T19:37:27.412936500Z"
    }
   },
   "id": "9c971445a419fd7f",
   "execution_count": 6
  },
  {
   "cell_type": "markdown",
   "source": [
    "First bit is predicted correctly, but second is random. We need more layers and neurons."
   ],
   "metadata": {
    "collapsed": false
   },
   "id": "ae1f701763347d45"
  },
  {
   "cell_type": "code",
   "outputs": [
    {
     "data": {
      "text/plain": "ModularNeuralNetwork(\n  (layers): Sequential(\n    (0): Linear(in_features=2, out_features=2, bias=True)\n    (1): Sigmoid()\n    (2): Linear(in_features=2, out_features=2, bias=True)\n    (3): Sigmoid()\n  )\n)"
     },
     "execution_count": 7,
     "metadata": {},
     "output_type": "execute_result"
    }
   ],
   "source": [
    "input_size, output_size = 2, 2\n",
    "hidden_layers = [2]\n",
    "learning_rate = 0.2\n",
    "model = ModularNeuralNetwork(input_size=input_size,\n",
    "                             output_size=output_size,\n",
    "                             layer_sizes=hidden_layers,\n",
    "                             activation_function=nn.Sigmoid())\n",
    "optimizer = torch.optim.SGD(model.parameters(), lr=learning_rate)\n",
    "loss_fn = nn.MSELoss()\n",
    "model"
   ],
   "metadata": {
    "collapsed": false,
    "ExecuteTime": {
     "end_time": "2024-04-09T19:37:30.887935400Z",
     "start_time": "2024-04-09T19:37:30.869436400Z"
    }
   },
   "id": "42159195de3f42d3",
   "execution_count": 7
  },
  {
   "cell_type": "code",
   "outputs": [
    {
     "name": "stderr",
     "output_type": "stream",
     "text": [
      "100%|██████████| 50000/50000 [00:21<00:00, 2363.45it/s]"
     ]
    },
    {
     "name": "stdout",
     "output_type": "stream",
     "text": [
      "Last loss value: 0.00047935720067471266\n",
      "0.0 + 0.0 = 0.0017 0.0242\n",
      "0.0 + 1.0 = 0.0187 0.9731\n",
      "1.0 + 0.0 = 0.0187 0.9731\n",
      "1.0 + 1.0 = 0.9779 0.0247\n"
     ]
    },
    {
     "name": "stderr",
     "output_type": "stream",
     "text": [
      "\n"
     ]
    }
   ],
   "source": [
    "N_epochs = 50000\n",
    "train(N_epochs)"
   ],
   "metadata": {
    "collapsed": false,
    "ExecuteTime": {
     "end_time": "2024-04-09T19:37:52.055935600Z",
     "start_time": "2024-04-09T19:37:30.885435100Z"
    }
   },
   "id": "2c1b4a8e90e287e",
   "execution_count": 8
  },
  {
   "cell_type": "markdown",
   "source": [
    "Probabilities are already correct, but let's more neurons"
   ],
   "metadata": {
    "collapsed": false
   },
   "id": "254f05d9f5c7fc21"
  },
  {
   "cell_type": "code",
   "outputs": [
    {
     "data": {
      "text/plain": "ModularNeuralNetwork(\n  (layers): Sequential(\n    (0): Linear(in_features=2, out_features=20, bias=True)\n    (1): Sigmoid()\n    (2): Linear(in_features=20, out_features=2, bias=True)\n    (3): Sigmoid()\n  )\n)"
     },
     "execution_count": 9,
     "metadata": {},
     "output_type": "execute_result"
    }
   ],
   "source": [
    "input_size, output_size = 2, 2\n",
    "hidden_layers = [20]\n",
    "learning_rate = 0.2\n",
    "model = ModularNeuralNetwork(input_size=input_size,\n",
    "                             output_size=output_size,\n",
    "                             layer_sizes=hidden_layers,\n",
    "                             activation_function=nn.Sigmoid())\n",
    "optimizer = torch.optim.SGD(model.parameters(), lr=learning_rate)\n",
    "loss_fn = nn.MSELoss()\n",
    "model"
   ],
   "metadata": {
    "collapsed": false,
    "ExecuteTime": {
     "end_time": "2024-04-09T19:37:52.083937200Z",
     "start_time": "2024-04-09T19:37:52.058935800Z"
    }
   },
   "id": "d2676065baf88239",
   "execution_count": 9
  },
  {
   "cell_type": "code",
   "outputs": [
    {
     "name": "stderr",
     "output_type": "stream",
     "text": [
      "100%|██████████| 50000/50000 [00:24<00:00, 2056.30it/s]"
     ]
    },
    {
     "name": "stdout",
     "output_type": "stream",
     "text": [
      "Last loss value: 0.00020986064919270575\n",
      "0.0 + 0.0 = 0.0000 0.0169\n",
      "0.0 + 1.0 = 0.0108 0.9804\n",
      "1.0 + 0.0 = 0.0098 0.9845\n",
      "1.0 + 1.0 = 0.9861 0.0191\n"
     ]
    },
    {
     "name": "stderr",
     "output_type": "stream",
     "text": [
      "\n"
     ]
    }
   ],
   "source": [
    "N_epochs = 50000\n",
    "train(N_epochs)"
   ],
   "metadata": {
    "collapsed": false,
    "ExecuteTime": {
     "end_time": "2024-04-09T19:38:16.407434400Z",
     "start_time": "2024-04-09T19:37:52.072939Z"
    }
   },
   "id": "207d0bb2228abeb6",
   "execution_count": 10
  },
  {
   "cell_type": "markdown",
   "source": [
    "We can see a small improvement. Let's add more layers."
   ],
   "metadata": {
    "collapsed": false
   },
   "id": "4ce380824459bd2e"
  },
  {
   "cell_type": "code",
   "outputs": [
    {
     "data": {
      "text/plain": "ModularNeuralNetwork(\n  (layers): Sequential(\n    (0): Linear(in_features=2, out_features=5, bias=True)\n    (1): Sigmoid()\n    (2): Linear(in_features=5, out_features=5, bias=True)\n    (3): Sigmoid()\n    (4): Linear(in_features=5, out_features=2, bias=True)\n    (5): Sigmoid()\n  )\n)"
     },
     "execution_count": 11,
     "metadata": {},
     "output_type": "execute_result"
    }
   ],
   "source": [
    "input_size, output_size = 2, 2\n",
    "hidden_layers = [5, 5]\n",
    "learning_rate = 0.2\n",
    "model = ModularNeuralNetwork(input_size=input_size,\n",
    "                             output_size=output_size,\n",
    "                             layer_sizes=hidden_layers,\n",
    "                             activation_function=nn.Sigmoid())\n",
    "optimizer = torch.optim.SGD(model.parameters(), lr=learning_rate)\n",
    "loss_fn = nn.MSELoss()\n",
    "model"
   ],
   "metadata": {
    "collapsed": false,
    "ExecuteTime": {
     "end_time": "2024-04-09T19:38:16.432436800Z",
     "start_time": "2024-04-09T19:38:16.410434800Z"
    }
   },
   "id": "bc0a04596a99f489",
   "execution_count": 11
  },
  {
   "cell_type": "code",
   "outputs": [
    {
     "name": "stderr",
     "output_type": "stream",
     "text": [
      "100%|██████████| 50000/50000 [00:24<00:00, 2028.69it/s]"
     ]
    },
    {
     "name": "stdout",
     "output_type": "stream",
     "text": [
      "Last loss value: 0.00022150261793285608\n",
      "0.0 + 0.0 = 0.0003 0.0189\n",
      "0.0 + 1.0 = 0.0103 0.9811\n",
      "1.0 + 0.0 = 0.0104 0.9830\n",
      "1.0 + 1.0 = 0.9868 0.0195\n"
     ]
    },
    {
     "name": "stderr",
     "output_type": "stream",
     "text": [
      "\n"
     ]
    }
   ],
   "source": [
    "N_epochs = 50000\n",
    "train(N_epochs)"
   ],
   "metadata": {
    "collapsed": false,
    "ExecuteTime": {
     "end_time": "2024-04-09T19:38:41.082435900Z",
     "start_time": "2024-04-09T19:38:16.425435700Z"
    }
   },
   "id": "357baefc376eae02",
   "execution_count": 12
  },
  {
   "cell_type": "code",
   "outputs": [
    {
     "data": {
      "text/plain": "ModularNeuralNetwork(\n  (layers): Sequential(\n    (0): Linear(in_features=2, out_features=20, bias=True)\n    (1): Sigmoid()\n    (2): Linear(in_features=20, out_features=20, bias=True)\n    (3): Sigmoid()\n    (4): Linear(in_features=20, out_features=20, bias=True)\n    (5): Sigmoid()\n    (6): Linear(in_features=20, out_features=20, bias=True)\n    (7): Sigmoid()\n    (8): Linear(in_features=20, out_features=2, bias=True)\n    (9): Sigmoid()\n  )\n)"
     },
     "execution_count": 13,
     "metadata": {},
     "output_type": "execute_result"
    }
   ],
   "source": [
    "input_size, output_size = 2, 2\n",
    "hidden_layers = [20, 20, 20, 20]\n",
    "learning_rate = 0.2\n",
    "model = ModularNeuralNetwork(input_size=input_size,\n",
    "                             output_size=output_size,\n",
    "                             layer_sizes=hidden_layers,\n",
    "                             activation_function=nn.Sigmoid())\n",
    "optimizer = torch.optim.SGD(model.parameters(), lr=learning_rate)\n",
    "loss_fn = nn.MSELoss()\n",
    "model"
   ],
   "metadata": {
    "collapsed": false,
    "ExecuteTime": {
     "end_time": "2024-04-09T19:38:41.107934300Z",
     "start_time": "2024-04-09T19:38:41.085435200Z"
    }
   },
   "id": "2566ca9ba534c989",
   "execution_count": 13
  },
  {
   "cell_type": "code",
   "outputs": [
    {
     "name": "stderr",
     "output_type": "stream",
     "text": [
      "100%|██████████| 50000/50000 [00:40<00:00, 1238.77it/s]"
     ]
    },
    {
     "name": "stdout",
     "output_type": "stream",
     "text": [
      "Last loss value: 0.21557700634002686\n",
      "0.0 + 0.0 = 0.2437 0.4972\n",
      "0.0 + 1.0 = 0.2602 0.5006\n",
      "1.0 + 0.0 = 0.2545 0.4995\n",
      "1.0 + 1.0 = 0.2699 0.5026\n"
     ]
    },
    {
     "name": "stderr",
     "output_type": "stream",
     "text": [
      "\n"
     ]
    }
   ],
   "source": [
    "N_epochs = 50000\n",
    "train(N_epochs)"
   ],
   "metadata": {
    "collapsed": false,
    "ExecuteTime": {
     "end_time": "2024-04-09T19:39:21.475937Z",
     "start_time": "2024-04-09T19:38:41.101938100Z"
    }
   },
   "id": "c6692816ec756c5c",
   "execution_count": 14
  },
  {
   "cell_type": "markdown",
   "source": [
    "# Multiplication"
   ],
   "metadata": {
    "collapsed": false
   },
   "id": "140ad28c07c5c924"
  },
  {
   "cell_type": "code",
   "outputs": [],
   "source": [
    "X = torch.tensor([0, 1], dtype=torch.float32).view(-1, 1)\n",
    "y = torch.tensor([[0, 0], [1, 0]], dtype=torch.float32)"
   ],
   "metadata": {
    "collapsed": false,
    "ExecuteTime": {
     "end_time": "2024-04-09T19:39:21.501434Z",
     "start_time": "2024-04-09T19:39:21.477935800Z"
    }
   },
   "id": "deb9a1e9a93a3286",
   "execution_count": 15
  },
  {
   "cell_type": "code",
   "outputs": [
    {
     "data": {
      "text/plain": "ModularNeuralNetwork(\n  (layers): Sequential(\n    (0): Linear(in_features=1, out_features=2, bias=True)\n    (1): Sigmoid()\n  )\n)"
     },
     "execution_count": 16,
     "metadata": {},
     "output_type": "execute_result"
    }
   ],
   "source": [
    "input_size, output_size = 1, 2\n",
    "hidden_layers = []\n",
    "learning_rate = 0.2\n",
    "model = ModularNeuralNetwork(input_size=input_size,\n",
    "                             output_size=output_size,\n",
    "                             layer_sizes=hidden_layers,\n",
    "                             activation_function=nn.Sigmoid())\n",
    "optimizer = torch.optim.SGD(model.parameters(), lr=learning_rate)\n",
    "loss_fn = nn.MSELoss()\n",
    "model"
   ],
   "metadata": {
    "collapsed": false,
    "ExecuteTime": {
     "end_time": "2024-04-09T19:39:21.506434200Z",
     "start_time": "2024-04-09T19:39:21.494434600Z"
    }
   },
   "id": "a8dc63c2b537812c",
   "execution_count": 16
  },
  {
   "cell_type": "code",
   "outputs": [],
   "source": [
    "def train(epochs):\n",
    "    model.train()\n",
    "    loss = 0\n",
    "    for _ in tqdm(range(epochs)):\n",
    "        y_pred = model(X)\n",
    "        loss = loss_fn(y_pred, y)\n",
    "        optimizer.zero_grad()\n",
    "        loss.backward()\n",
    "        optimizer.step()\n",
    "    print(f'Last loss value: {loss}')\n",
    "    model.eval()\n",
    "    with torch.inference_mode():\n",
    "        for i, x in enumerate(X):\n",
    "            y_ = model(x)\n",
    "            print(f'{x.item()} * 2 = {y_[0].item():.4f} {y_[1].item():.4f}')"
   ],
   "metadata": {
    "collapsed": false,
    "ExecuteTime": {
     "end_time": "2024-04-09T19:39:21.521934400Z",
     "start_time": "2024-04-09T19:39:21.508934400Z"
    }
   },
   "id": "2c77f159fc7a0882",
   "execution_count": 17
  },
  {
   "cell_type": "code",
   "outputs": [
    {
     "name": "stderr",
     "output_type": "stream",
     "text": [
      "100%|██████████| 10000/10000 [00:03<00:00, 2962.09it/s]"
     ]
    },
    {
     "name": "stdout",
     "output_type": "stream",
     "text": [
      "Last loss value: 0.0008655674173496664\n",
      "0.0 * 2 = 0.0419 0.0229\n",
      "1.0 * 2 = 0.9660 0.0049\n"
     ]
    },
    {
     "name": "stderr",
     "output_type": "stream",
     "text": [
      "\n"
     ]
    }
   ],
   "source": [
    "N_epochs = 10000\n",
    "train(N_epochs)"
   ],
   "metadata": {
    "collapsed": false,
    "ExecuteTime": {
     "end_time": "2024-04-09T19:39:24.916434200Z",
     "start_time": "2024-04-09T19:39:21.522434300Z"
    }
   },
   "id": "baf6d2acc708ea80",
   "execution_count": 18
  },
  {
   "cell_type": "code",
   "outputs": [],
   "source": [],
   "metadata": {
    "collapsed": false,
    "ExecuteTime": {
     "end_time": "2024-04-09T19:39:24.931934600Z",
     "start_time": "2024-04-09T19:39:24.917934900Z"
    }
   },
   "id": "f5f321da17fdf32c",
   "execution_count": 18
  }
 ],
 "metadata": {
  "kernelspec": {
   "display_name": "Python 3",
   "language": "python",
   "name": "python3"
  },
  "language_info": {
   "codemirror_mode": {
    "name": "ipython",
    "version": 2
   },
   "file_extension": ".py",
   "mimetype": "text/x-python",
   "name": "python",
   "nbconvert_exporter": "python",
   "pygments_lexer": "ipython2",
   "version": "2.7.6"
  }
 },
 "nbformat": 4,
 "nbformat_minor": 5
}
